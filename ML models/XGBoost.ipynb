{
 "cells": [
  {
   "cell_type": "markdown",
   "metadata": {},
   "source": [
    "# Use XGBoost for modelling\n",
    "\n",
    "This modelling notebook was generated only be me, Dominik. I use the kickstarter_modelling.csv file generated in the EDA notebook for modelling. We decided to try out XGBoost, because it is known to be a good algorithm for classification problems."
   ]
  },
  {
   "cell_type": "code",
   "execution_count": 1,
   "metadata": {},
   "outputs": [],
   "source": [
    "# import all necessary packages\n",
    "import pandas as pd\n",
    "import numpy as np\n",
    "import seaborn as sns\n",
    "import matplotlib.pyplot as plt\n",
    "import plotly.express as px\n",
    "\n",
    "from sklearn.model_selection import train_test_split, cross_val_score\n",
    "from xgboost import XGBClassifier\n",
    "from sklearn.metrics import confusion_matrix, accuracy_score, recall_score, precision_score, roc_auc_score, f1_score\n",
    "from sklearn.decomposition import PCA\n",
    "from sklearn import preprocessing\n",
    "from sklearn.preprocessing import StandardScaler, MinMaxScaler\n",
    "from sklearn.model_selection import GridSearchCV, RandomizedSearchCV\n",
    "\n",
    "\n",
    "RSEED = 45"
   ]
  },
  {
   "cell_type": "code",
   "execution_count": 2,
   "metadata": {},
   "outputs": [
    {
     "data": {
      "text/html": [
       "<div>\n",
       "<style scoped>\n",
       "    .dataframe tbody tr th:only-of-type {\n",
       "        vertical-align: middle;\n",
       "    }\n",
       "\n",
       "    .dataframe tbody tr th {\n",
       "        vertical-align: top;\n",
       "    }\n",
       "\n",
       "    .dataframe thead th {\n",
       "        text-align: right;\n",
       "    }\n",
       "</style>\n",
       "<table border=\"1\" class=\"dataframe\">\n",
       "  <thead>\n",
       "    <tr style=\"text-align: right;\">\n",
       "      <th></th>\n",
       "      <th>funding_goal</th>\n",
       "      <th>outcome</th>\n",
       "      <th>funding_period</th>\n",
       "      <th>launch_year</th>\n",
       "      <th>category_Comics</th>\n",
       "      <th>category_Crafts</th>\n",
       "      <th>category_Dance</th>\n",
       "      <th>category_Design</th>\n",
       "      <th>category_Fashion</th>\n",
       "      <th>category_Film &amp; Video</th>\n",
       "      <th>...</th>\n",
       "      <th>country_Mexico</th>\n",
       "      <th>country_Netherlands</th>\n",
       "      <th>country_New Zealand</th>\n",
       "      <th>country_Norway</th>\n",
       "      <th>country_Singapore</th>\n",
       "      <th>country_Spain</th>\n",
       "      <th>country_Sweden</th>\n",
       "      <th>country_Switzerland</th>\n",
       "      <th>country_United Kingdom</th>\n",
       "      <th>country_United States</th>\n",
       "    </tr>\n",
       "  </thead>\n",
       "  <tbody>\n",
       "    <tr>\n",
       "      <th>0</th>\n",
       "      <td>1000</td>\n",
       "      <td>0</td>\n",
       "      <td>39</td>\n",
       "      <td>2009</td>\n",
       "      <td>0</td>\n",
       "      <td>0</td>\n",
       "      <td>0</td>\n",
       "      <td>0</td>\n",
       "      <td>1</td>\n",
       "      <td>0</td>\n",
       "      <td>...</td>\n",
       "      <td>0</td>\n",
       "      <td>0</td>\n",
       "      <td>0</td>\n",
       "      <td>0</td>\n",
       "      <td>0</td>\n",
       "      <td>0</td>\n",
       "      <td>0</td>\n",
       "      <td>0</td>\n",
       "      <td>0</td>\n",
       "      <td>1</td>\n",
       "    </tr>\n",
       "    <tr>\n",
       "      <th>1</th>\n",
       "      <td>80000</td>\n",
       "      <td>0</td>\n",
       "      <td>87</td>\n",
       "      <td>2009</td>\n",
       "      <td>0</td>\n",
       "      <td>0</td>\n",
       "      <td>0</td>\n",
       "      <td>0</td>\n",
       "      <td>0</td>\n",
       "      <td>1</td>\n",
       "      <td>...</td>\n",
       "      <td>0</td>\n",
       "      <td>0</td>\n",
       "      <td>0</td>\n",
       "      <td>0</td>\n",
       "      <td>0</td>\n",
       "      <td>0</td>\n",
       "      <td>0</td>\n",
       "      <td>0</td>\n",
       "      <td>0</td>\n",
       "      <td>1</td>\n",
       "    </tr>\n",
       "    <tr>\n",
       "      <th>2</th>\n",
       "      <td>20</td>\n",
       "      <td>1</td>\n",
       "      <td>8</td>\n",
       "      <td>2009</td>\n",
       "      <td>0</td>\n",
       "      <td>0</td>\n",
       "      <td>0</td>\n",
       "      <td>0</td>\n",
       "      <td>0</td>\n",
       "      <td>0</td>\n",
       "      <td>...</td>\n",
       "      <td>0</td>\n",
       "      <td>0</td>\n",
       "      <td>0</td>\n",
       "      <td>0</td>\n",
       "      <td>0</td>\n",
       "      <td>0</td>\n",
       "      <td>0</td>\n",
       "      <td>0</td>\n",
       "      <td>0</td>\n",
       "      <td>1</td>\n",
       "    </tr>\n",
       "    <tr>\n",
       "      <th>3</th>\n",
       "      <td>99</td>\n",
       "      <td>1</td>\n",
       "      <td>79</td>\n",
       "      <td>2009</td>\n",
       "      <td>0</td>\n",
       "      <td>0</td>\n",
       "      <td>0</td>\n",
       "      <td>0</td>\n",
       "      <td>0</td>\n",
       "      <td>0</td>\n",
       "      <td>...</td>\n",
       "      <td>0</td>\n",
       "      <td>0</td>\n",
       "      <td>0</td>\n",
       "      <td>0</td>\n",
       "      <td>0</td>\n",
       "      <td>0</td>\n",
       "      <td>0</td>\n",
       "      <td>0</td>\n",
       "      <td>0</td>\n",
       "      <td>1</td>\n",
       "    </tr>\n",
       "    <tr>\n",
       "      <th>4</th>\n",
       "      <td>1900</td>\n",
       "      <td>0</td>\n",
       "      <td>28</td>\n",
       "      <td>2009</td>\n",
       "      <td>0</td>\n",
       "      <td>0</td>\n",
       "      <td>0</td>\n",
       "      <td>0</td>\n",
       "      <td>1</td>\n",
       "      <td>0</td>\n",
       "      <td>...</td>\n",
       "      <td>0</td>\n",
       "      <td>0</td>\n",
       "      <td>0</td>\n",
       "      <td>0</td>\n",
       "      <td>0</td>\n",
       "      <td>0</td>\n",
       "      <td>0</td>\n",
       "      <td>0</td>\n",
       "      <td>0</td>\n",
       "      <td>1</td>\n",
       "    </tr>\n",
       "  </tbody>\n",
       "</table>\n",
       "<p>5 rows × 197 columns</p>\n",
       "</div>"
      ],
      "text/plain": [
       "   funding_goal  outcome  funding_period  launch_year  category_Comics   \n",
       "0          1000        0              39         2009                0  \\\n",
       "1         80000        0              87         2009                0   \n",
       "2            20        1               8         2009                0   \n",
       "3            99        1              79         2009                0   \n",
       "4          1900        0              28         2009                0   \n",
       "\n",
       "   category_Crafts  category_Dance  category_Design  category_Fashion   \n",
       "0                0               0                0                 1  \\\n",
       "1                0               0                0                 0   \n",
       "2                0               0                0                 0   \n",
       "3                0               0                0                 0   \n",
       "4                0               0                0                 1   \n",
       "\n",
       "   category_Film & Video  ...  country_Mexico  country_Netherlands    \n",
       "0                      0  ...               0                     0  \\\n",
       "1                      1  ...               0                     0   \n",
       "2                      0  ...               0                     0   \n",
       "3                      0  ...               0                     0   \n",
       "4                      0  ...               0                     0   \n",
       "\n",
       "   country_New Zealand  country_Norway  country_Singapore  country_Spain   \n",
       "0                    0               0                  0              0  \\\n",
       "1                    0               0                  0              0   \n",
       "2                    0               0                  0              0   \n",
       "3                    0               0                  0              0   \n",
       "4                    0               0                  0              0   \n",
       "\n",
       "   country_Sweden  country_Switzerland  country_United Kingdom   \n",
       "0               0                    0                       0  \\\n",
       "1               0                    0                       0   \n",
       "2               0                    0                       0   \n",
       "3               0                    0                       0   \n",
       "4               0                    0                       0   \n",
       "\n",
       "   country_United States  \n",
       "0                      1  \n",
       "1                      1  \n",
       "2                      1  \n",
       "3                      1  \n",
       "4                      1  \n",
       "\n",
       "[5 rows x 197 columns]"
      ]
     },
     "execution_count": 2,
     "metadata": {},
     "output_type": "execute_result"
    }
   ],
   "source": [
    "# import the modeling csv file\n",
    "df_kickstarter = pd.read_csv('../data/kickstarter_modeling.csv')\n",
    "df_kickstarter.head()"
   ]
  },
  {
   "cell_type": "code",
   "execution_count": 3,
   "metadata": {},
   "outputs": [
    {
     "data": {
      "text/plain": [
       "((331462, 196), (331462,))"
      ]
     },
     "execution_count": 3,
     "metadata": {},
     "output_type": "execute_result"
    }
   ],
   "source": [
    "# define the target and features\n",
    "X = df_kickstarter.drop('outcome', axis=1)\n",
    "y = df_kickstarter['outcome']\n",
    "X.shape, y.shape"
   ]
  },
  {
   "cell_type": "code",
   "execution_count": 4,
   "metadata": {},
   "outputs": [
    {
     "data": {
      "text/plain": [
       "((248596, 196), (82866, 196), (248596,), (82866,))"
      ]
     },
     "execution_count": 4,
     "metadata": {},
     "output_type": "execute_result"
    }
   ],
   "source": [
    "# do the train/test split. The training set is used for the model training, the test set is used for evaluation\n",
    "X_train, X_test, y_train, y_test = train_test_split(X,y, random_state=RSEED)\n",
    "X_train.shape, X_test.shape, y_train.shape, y_test.shape"
   ]
  },
  {
   "cell_type": "code",
   "execution_count": 5,
   "metadata": {},
   "outputs": [
    {
     "data": {
      "text/html": [
       "<style>#sk-container-id-1 {color: black;background-color: white;}#sk-container-id-1 pre{padding: 0;}#sk-container-id-1 div.sk-toggleable {background-color: white;}#sk-container-id-1 label.sk-toggleable__label {cursor: pointer;display: block;width: 100%;margin-bottom: 0;padding: 0.3em;box-sizing: border-box;text-align: center;}#sk-container-id-1 label.sk-toggleable__label-arrow:before {content: \"▸\";float: left;margin-right: 0.25em;color: #696969;}#sk-container-id-1 label.sk-toggleable__label-arrow:hover:before {color: black;}#sk-container-id-1 div.sk-estimator:hover label.sk-toggleable__label-arrow:before {color: black;}#sk-container-id-1 div.sk-toggleable__content {max-height: 0;max-width: 0;overflow: hidden;text-align: left;background-color: #f0f8ff;}#sk-container-id-1 div.sk-toggleable__content pre {margin: 0.2em;color: black;border-radius: 0.25em;background-color: #f0f8ff;}#sk-container-id-1 input.sk-toggleable__control:checked~div.sk-toggleable__content {max-height: 200px;max-width: 100%;overflow: auto;}#sk-container-id-1 input.sk-toggleable__control:checked~label.sk-toggleable__label-arrow:before {content: \"▾\";}#sk-container-id-1 div.sk-estimator input.sk-toggleable__control:checked~label.sk-toggleable__label {background-color: #d4ebff;}#sk-container-id-1 div.sk-label input.sk-toggleable__control:checked~label.sk-toggleable__label {background-color: #d4ebff;}#sk-container-id-1 input.sk-hidden--visually {border: 0;clip: rect(1px 1px 1px 1px);clip: rect(1px, 1px, 1px, 1px);height: 1px;margin: -1px;overflow: hidden;padding: 0;position: absolute;width: 1px;}#sk-container-id-1 div.sk-estimator {font-family: monospace;background-color: #f0f8ff;border: 1px dotted black;border-radius: 0.25em;box-sizing: border-box;margin-bottom: 0.5em;}#sk-container-id-1 div.sk-estimator:hover {background-color: #d4ebff;}#sk-container-id-1 div.sk-parallel-item::after {content: \"\";width: 100%;border-bottom: 1px solid gray;flex-grow: 1;}#sk-container-id-1 div.sk-label:hover label.sk-toggleable__label {background-color: #d4ebff;}#sk-container-id-1 div.sk-serial::before {content: \"\";position: absolute;border-left: 1px solid gray;box-sizing: border-box;top: 0;bottom: 0;left: 50%;z-index: 0;}#sk-container-id-1 div.sk-serial {display: flex;flex-direction: column;align-items: center;background-color: white;padding-right: 0.2em;padding-left: 0.2em;position: relative;}#sk-container-id-1 div.sk-item {position: relative;z-index: 1;}#sk-container-id-1 div.sk-parallel {display: flex;align-items: stretch;justify-content: center;background-color: white;position: relative;}#sk-container-id-1 div.sk-item::before, #sk-container-id-1 div.sk-parallel-item::before {content: \"\";position: absolute;border-left: 1px solid gray;box-sizing: border-box;top: 0;bottom: 0;left: 50%;z-index: -1;}#sk-container-id-1 div.sk-parallel-item {display: flex;flex-direction: column;z-index: 1;position: relative;background-color: white;}#sk-container-id-1 div.sk-parallel-item:first-child::after {align-self: flex-end;width: 50%;}#sk-container-id-1 div.sk-parallel-item:last-child::after {align-self: flex-start;width: 50%;}#sk-container-id-1 div.sk-parallel-item:only-child::after {width: 0;}#sk-container-id-1 div.sk-dashed-wrapped {border: 1px dashed gray;margin: 0 0.4em 0.5em 0.4em;box-sizing: border-box;padding-bottom: 0.4em;background-color: white;}#sk-container-id-1 div.sk-label label {font-family: monospace;font-weight: bold;display: inline-block;line-height: 1.2em;}#sk-container-id-1 div.sk-label-container {text-align: center;}#sk-container-id-1 div.sk-container {/* jupyter's `normalize.less` sets `[hidden] { display: none; }` but bootstrap.min.css set `[hidden] { display: none !important; }` so we also need the `!important` here to be able to override the default hidden behavior on the sphinx rendered scikit-learn.org. See: https://github.com/scikit-learn/scikit-learn/issues/21755 */display: inline-block !important;position: relative;}#sk-container-id-1 div.sk-text-repr-fallback {display: none;}</style><div id=\"sk-container-id-1\" class=\"sk-top-container\"><div class=\"sk-text-repr-fallback\"><pre>XGBClassifier(base_score=None, booster=None, callbacks=None,\n",
       "              colsample_bylevel=None, colsample_bynode=None,\n",
       "              colsample_bytree=None, early_stopping_rounds=None,\n",
       "              enable_categorical=False, eval_metric=None, feature_types=None,\n",
       "              gamma=None, gpu_id=None, grow_policy=None, importance_type=None,\n",
       "              interaction_constraints=None, learning_rate=None, max_bin=None,\n",
       "              max_cat_threshold=None, max_cat_to_onehot=None,\n",
       "              max_delta_step=None, max_depth=None, max_leaves=None,\n",
       "              min_child_weight=None, missing=nan, monotone_constraints=None,\n",
       "              n_estimators=100, n_jobs=None, num_parallel_tree=None,\n",
       "              predictor=None, random_state=None, ...)</pre><b>In a Jupyter environment, please rerun this cell to show the HTML representation or trust the notebook. <br />On GitHub, the HTML representation is unable to render, please try loading this page with nbviewer.org.</b></div><div class=\"sk-container\" hidden><div class=\"sk-item\"><div class=\"sk-estimator sk-toggleable\"><input class=\"sk-toggleable__control sk-hidden--visually\" id=\"sk-estimator-id-1\" type=\"checkbox\" checked><label for=\"sk-estimator-id-1\" class=\"sk-toggleable__label sk-toggleable__label-arrow\">XGBClassifier</label><div class=\"sk-toggleable__content\"><pre>XGBClassifier(base_score=None, booster=None, callbacks=None,\n",
       "              colsample_bylevel=None, colsample_bynode=None,\n",
       "              colsample_bytree=None, early_stopping_rounds=None,\n",
       "              enable_categorical=False, eval_metric=None, feature_types=None,\n",
       "              gamma=None, gpu_id=None, grow_policy=None, importance_type=None,\n",
       "              interaction_constraints=None, learning_rate=None, max_bin=None,\n",
       "              max_cat_threshold=None, max_cat_to_onehot=None,\n",
       "              max_delta_step=None, max_depth=None, max_leaves=None,\n",
       "              min_child_weight=None, missing=nan, monotone_constraints=None,\n",
       "              n_estimators=100, n_jobs=None, num_parallel_tree=None,\n",
       "              predictor=None, random_state=None, ...)</pre></div></div></div></div></div>"
      ],
      "text/plain": [
       "XGBClassifier(base_score=None, booster=None, callbacks=None,\n",
       "              colsample_bylevel=None, colsample_bynode=None,\n",
       "              colsample_bytree=None, early_stopping_rounds=None,\n",
       "              enable_categorical=False, eval_metric=None, feature_types=None,\n",
       "              gamma=None, gpu_id=None, grow_policy=None, importance_type=None,\n",
       "              interaction_constraints=None, learning_rate=None, max_bin=None,\n",
       "              max_cat_threshold=None, max_cat_to_onehot=None,\n",
       "              max_delta_step=None, max_depth=None, max_leaves=None,\n",
       "              min_child_weight=None, missing=nan, monotone_constraints=None,\n",
       "              n_estimators=100, n_jobs=None, num_parallel_tree=None,\n",
       "              predictor=None, random_state=None, ...)"
      ]
     },
     "execution_count": 5,
     "metadata": {},
     "output_type": "execute_result"
    }
   ],
   "source": [
    "# train a first, simple XGBoost model\n",
    "boost = XGBClassifier()\n",
    "boost.fit(X_train, y_train)"
   ]
  },
  {
   "cell_type": "code",
   "execution_count": 6,
   "metadata": {},
   "outputs": [],
   "source": [
    "# make predictions on training data as well as on the test data\n",
    "y_pred_train = boost.predict(X_train)\n",
    "y_pred = boost.predict(X_test)"
   ]
  },
  {
   "cell_type": "code",
   "execution_count": 7,
   "metadata": {},
   "outputs": [
    {
     "data": {
      "text/plain": [
       "<Axes: xlabel='Predicted', ylabel='Actual'>"
      ]
     },
     "execution_count": 7,
     "metadata": {},
     "output_type": "execute_result"
    },
    {
     "data": {
      "image/png": "[encoded data removed]",
      "text/plain": [
       "<Figure size 640x480 with 2 Axes>"
      ]
     },
     "metadata": {},
     "output_type": "display_data"
    }
   ],
   "source": [
    "# Confusion matrix using pandas crosstab\n",
    "conf_matrix= pd.crosstab(y_test, y_pred, rownames=['Actual'], colnames=['Predicted'])\n",
    "sns.heatmap(conf_matrix, annot=True)"
   ]
  },
  {
   "cell_type": "markdown",
   "metadata": {},
   "source": [
    "## Interpretation\n",
    "\n",
    "This model is already not too terrible. There are a lot of true negatives and very little false positives, which is something that was important for us. The problem is with the true positives and the false positives."
   ]
  },
  {
   "cell_type": "code",
   "execution_count": 8,
   "metadata": {},
   "outputs": [],
   "source": [
    "# function to display the evaluation metricees\n",
    "def get_scores(y_pred_train, y_pred, y_train=y_train, y_test=y_test):\n",
    "    '''\n",
    "    Getting all the scores to rate the model\n",
    "\n",
    "    y_pred_train = predicted y of the training data\n",
    "    \n",
    "    y_pred = predicted y of the test data\n",
    "    '''\n",
    "    acc_train = accuracy_score(y_pred_train, y_train)\n",
    "    acc = accuracy_score(y_pred, y_test)\n",
    "    print(f'Train accuracy is : {acc_train}')\n",
    "    print(f'Test accuracy is : {acc}')\n",
    "\n",
    "    print('---' * 17)\n",
    "\n",
    "    prec_train = precision_score(y_pred_train, y_train)\n",
    "    prec = precision_score(y_pred, y_test)\n",
    "    print(f'Train precision is : {prec_train}')\n",
    "    print(f'Test precision is : {prec}')\n",
    "\n",
    "    print('---' * 17)\n",
    "\n",
    "    reca_train = recall_score(y_pred_train, y_train)\n",
    "    reca = recall_score(y_pred, y_test)\n",
    "    print(f'Train recall is : {reca_train}')\n",
    "    print(f'Test recall is : {reca}')\n",
    "\n",
    "    print('---' * 17)\n",
    "\n",
    "    f1_train = f1_score(y_pred_train, y_train)\n",
    "    f1 = f1_score(y_pred, y_test)\n",
    "    print(f'Train f1 score is : {f1_train}')\n",
    "    print(f'Test f1 score is : {f1}')\n",
    "\n",
    "    print('---' * 17)\n",
    "\n",
    "    roc_train = roc_auc_score(y_pred_train, y_train)\n",
    "    roc = roc_auc_score(y_pred, y_test)\n",
    "    print(f'Train roc_auc is : {roc_train}')\n",
    "    print(f'Test roc_auc is : {roc}')"
   ]
  },
  {
   "cell_type": "code",
   "execution_count": 9,
   "metadata": {},
   "outputs": [
    {
     "name": "stdout",
     "output_type": "stream",
     "text": [
      "Train accuracy is : 0.701829474327825\n",
      "Test accuracy is : 0.6926966427726692\n",
      "---------------------------------------------------\n",
      "Train precision is : 0.5381754735792622\n",
      "Test precision is : 0.5238293940568091\n",
      "---------------------------------------------------\n",
      "Train recall is : 0.660035215573109\n",
      "Test recall is : 0.6493866390777416\n",
      "---------------------------------------------------\n",
      "Train f1 score is : 0.5929086894915477\n",
      "Test f1 score is : 0.5798894663037202\n",
      "---------------------------------------------------\n",
      "Train roc_auc is : 0.6911773425809962\n",
      "Test roc_auc is : 0.6815443284632822\n"
     ]
    }
   ],
   "source": [
    "get_scores(y_pred_train, y_pred)"
   ]
  },
  {
   "cell_type": "markdown",
   "metadata": {},
   "source": [
    "## Interpretation\n",
    "\n",
    "The accuracy seems already kind of fine, but that is because we don't have a balanced dataset. The good classification of negatives gives a good accuracy, even though the true positives are bad."
   ]
  },
  {
   "cell_type": "markdown",
   "metadata": {},
   "source": [
    "## Scaling the data\n",
    "\n",
    "The first thing to do in order to improve the modelling is to scale the numerical data."
   ]
  },
  {
   "cell_type": "code",
   "execution_count": 10,
   "metadata": {},
   "outputs": [
    {
     "data": {
      "text/html": [
       "<div>\n",
       "<style scoped>\n",
       "    .dataframe tbody tr th:only-of-type {\n",
       "        vertical-align: middle;\n",
       "    }\n",
       "\n",
       "    .dataframe tbody tr th {\n",
       "        vertical-align: top;\n",
       "    }\n",
       "\n",
       "    .dataframe thead th {\n",
       "        text-align: right;\n",
       "    }\n",
       "</style>\n",
       "<table border=\"1\" class=\"dataframe\">\n",
       "  <thead>\n",
       "    <tr style=\"text-align: right;\">\n",
       "      <th></th>\n",
       "      <th>funding_goal</th>\n",
       "      <th>funding_period</th>\n",
       "      <th>launch_year</th>\n",
       "      <th>category_Comics</th>\n",
       "      <th>category_Crafts</th>\n",
       "      <th>category_Dance</th>\n",
       "      <th>category_Design</th>\n",
       "      <th>category_Fashion</th>\n",
       "      <th>category_Film &amp; Video</th>\n",
       "      <th>category_Food</th>\n",
       "      <th>...</th>\n",
       "      <th>country_Mexico</th>\n",
       "      <th>country_Netherlands</th>\n",
       "      <th>country_New Zealand</th>\n",
       "      <th>country_Norway</th>\n",
       "      <th>country_Singapore</th>\n",
       "      <th>country_Spain</th>\n",
       "      <th>country_Sweden</th>\n",
       "      <th>country_Switzerland</th>\n",
       "      <th>country_United Kingdom</th>\n",
       "      <th>country_United States</th>\n",
       "    </tr>\n",
       "  </thead>\n",
       "  <tbody>\n",
       "    <tr>\n",
       "      <th>97463</th>\n",
       "      <td>2000</td>\n",
       "      <td>29</td>\n",
       "      <td>2013</td>\n",
       "      <td>0</td>\n",
       "      <td>0</td>\n",
       "      <td>0</td>\n",
       "      <td>0</td>\n",
       "      <td>0</td>\n",
       "      <td>0</td>\n",
       "      <td>0</td>\n",
       "      <td>...</td>\n",
       "      <td>0</td>\n",
       "      <td>0</td>\n",
       "      <td>0</td>\n",
       "      <td>0</td>\n",
       "      <td>0</td>\n",
       "      <td>0</td>\n",
       "      <td>0</td>\n",
       "      <td>0</td>\n",
       "      <td>0</td>\n",
       "      <td>1</td>\n",
       "    </tr>\n",
       "    <tr>\n",
       "      <th>141730</th>\n",
       "      <td>38000</td>\n",
       "      <td>37</td>\n",
       "      <td>2014</td>\n",
       "      <td>0</td>\n",
       "      <td>0</td>\n",
       "      <td>0</td>\n",
       "      <td>0</td>\n",
       "      <td>0</td>\n",
       "      <td>1</td>\n",
       "      <td>0</td>\n",
       "      <td>...</td>\n",
       "      <td>0</td>\n",
       "      <td>0</td>\n",
       "      <td>0</td>\n",
       "      <td>0</td>\n",
       "      <td>0</td>\n",
       "      <td>0</td>\n",
       "      <td>0</td>\n",
       "      <td>0</td>\n",
       "      <td>0</td>\n",
       "      <td>1</td>\n",
       "    </tr>\n",
       "    <tr>\n",
       "      <th>183714</th>\n",
       "      <td>47348</td>\n",
       "      <td>24</td>\n",
       "      <td>2015</td>\n",
       "      <td>0</td>\n",
       "      <td>0</td>\n",
       "      <td>0</td>\n",
       "      <td>0</td>\n",
       "      <td>0</td>\n",
       "      <td>0</td>\n",
       "      <td>0</td>\n",
       "      <td>...</td>\n",
       "      <td>0</td>\n",
       "      <td>0</td>\n",
       "      <td>0</td>\n",
       "      <td>0</td>\n",
       "      <td>0</td>\n",
       "      <td>0</td>\n",
       "      <td>0</td>\n",
       "      <td>0</td>\n",
       "      <td>0</td>\n",
       "      <td>0</td>\n",
       "    </tr>\n",
       "    <tr>\n",
       "      <th>208796</th>\n",
       "      <td>5000</td>\n",
       "      <td>59</td>\n",
       "      <td>2015</td>\n",
       "      <td>0</td>\n",
       "      <td>0</td>\n",
       "      <td>0</td>\n",
       "      <td>0</td>\n",
       "      <td>1</td>\n",
       "      <td>0</td>\n",
       "      <td>0</td>\n",
       "      <td>...</td>\n",
       "      <td>0</td>\n",
       "      <td>0</td>\n",
       "      <td>0</td>\n",
       "      <td>0</td>\n",
       "      <td>0</td>\n",
       "      <td>0</td>\n",
       "      <td>0</td>\n",
       "      <td>0</td>\n",
       "      <td>0</td>\n",
       "      <td>1</td>\n",
       "    </tr>\n",
       "    <tr>\n",
       "      <th>274154</th>\n",
       "      <td>2500</td>\n",
       "      <td>29</td>\n",
       "      <td>2016</td>\n",
       "      <td>0</td>\n",
       "      <td>0</td>\n",
       "      <td>0</td>\n",
       "      <td>0</td>\n",
       "      <td>0</td>\n",
       "      <td>0</td>\n",
       "      <td>0</td>\n",
       "      <td>...</td>\n",
       "      <td>0</td>\n",
       "      <td>0</td>\n",
       "      <td>0</td>\n",
       "      <td>0</td>\n",
       "      <td>0</td>\n",
       "      <td>0</td>\n",
       "      <td>0</td>\n",
       "      <td>0</td>\n",
       "      <td>0</td>\n",
       "      <td>1</td>\n",
       "    </tr>\n",
       "  </tbody>\n",
       "</table>\n",
       "<p>5 rows × 196 columns</p>\n",
       "</div>"
      ],
      "text/plain": [
       "        funding_goal  funding_period  launch_year  category_Comics   \n",
       "97463           2000              29         2013                0  \\\n",
       "141730         38000              37         2014                0   \n",
       "183714         47348              24         2015                0   \n",
       "208796          5000              59         2015                0   \n",
       "274154          2500              29         2016                0   \n",
       "\n",
       "        category_Crafts  category_Dance  category_Design  category_Fashion   \n",
       "97463                 0               0                0                 0  \\\n",
       "141730                0               0                0                 0   \n",
       "183714                0               0                0                 0   \n",
       "208796                0               0                0                 1   \n",
       "274154                0               0                0                 0   \n",
       "\n",
       "        category_Film & Video  category_Food  ...  country_Mexico   \n",
       "97463                       0              0  ...               0  \\\n",
       "141730                      1              0  ...               0   \n",
       "183714                      0              0  ...               0   \n",
       "208796                      0              0  ...               0   \n",
       "274154                      0              0  ...               0   \n",
       "\n",
       "        country_Netherlands   country_New Zealand  country_Norway   \n",
       "97463                      0                    0               0  \\\n",
       "141730                     0                    0               0   \n",
       "183714                     0                    0               0   \n",
       "208796                     0                    0               0   \n",
       "274154                     0                    0               0   \n",
       "\n",
       "        country_Singapore  country_Spain  country_Sweden  country_Switzerland   \n",
       "97463                   0              0               0                    0  \\\n",
       "141730                  0              0               0                    0   \n",
       "183714                  0              0               0                    0   \n",
       "208796                  0              0               0                    0   \n",
       "274154                  0              0               0                    0   \n",
       "\n",
       "        country_United Kingdom  country_United States  \n",
       "97463                        0                      1  \n",
       "141730                       0                      1  \n",
       "183714                       0                      0  \n",
       "208796                       0                      1  \n",
       "274154                       0                      1  \n",
       "\n",
       "[5 rows x 196 columns]"
      ]
     },
     "execution_count": 10,
     "metadata": {},
     "output_type": "execute_result"
    }
   ],
   "source": [
    "X_train.head()"
   ]
  },
  {
   "cell_type": "code",
   "execution_count": 11,
   "metadata": {},
   "outputs": [
    {
     "data": {
      "text/html": [
       "<div>\n",
       "<style scoped>\n",
       "    .dataframe tbody tr th:only-of-type {\n",
       "        vertical-align: middle;\n",
       "    }\n",
       "\n",
       "    .dataframe tbody tr th {\n",
       "        vertical-align: top;\n",
       "    }\n",
       "\n",
       "    .dataframe thead th {\n",
       "        text-align: right;\n",
       "    }\n",
       "</style>\n",
       "<table border=\"1\" class=\"dataframe\">\n",
       "  <thead>\n",
       "    <tr style=\"text-align: right;\">\n",
       "      <th></th>\n",
       "      <th>funding_goal</th>\n",
       "      <th>funding_period</th>\n",
       "      <th>launch_year</th>\n",
       "      <th>category_Comics</th>\n",
       "      <th>category_Crafts</th>\n",
       "      <th>category_Dance</th>\n",
       "      <th>category_Design</th>\n",
       "      <th>category_Fashion</th>\n",
       "      <th>category_Film &amp; Video</th>\n",
       "      <th>category_Food</th>\n",
       "      <th>...</th>\n",
       "      <th>country_Mexico</th>\n",
       "      <th>country_Netherlands</th>\n",
       "      <th>country_New Zealand</th>\n",
       "      <th>country_Norway</th>\n",
       "      <th>country_Singapore</th>\n",
       "      <th>country_Spain</th>\n",
       "      <th>country_Sweden</th>\n",
       "      <th>country_Switzerland</th>\n",
       "      <th>country_United Kingdom</th>\n",
       "      <th>country_United States</th>\n",
       "    </tr>\n",
       "  </thead>\n",
       "  <tbody>\n",
       "    <tr>\n",
       "      <th>0</th>\n",
       "      <td>0.000012</td>\n",
       "      <td>0.318681</td>\n",
       "      <td>0.500</td>\n",
       "      <td>0.0</td>\n",
       "      <td>0.0</td>\n",
       "      <td>0.0</td>\n",
       "      <td>0.0</td>\n",
       "      <td>0.0</td>\n",
       "      <td>0.0</td>\n",
       "      <td>0.0</td>\n",
       "      <td>...</td>\n",
       "      <td>0.0</td>\n",
       "      <td>0.0</td>\n",
       "      <td>0.0</td>\n",
       "      <td>0.0</td>\n",
       "      <td>0.0</td>\n",
       "      <td>0.0</td>\n",
       "      <td>0.0</td>\n",
       "      <td>0.0</td>\n",
       "      <td>0.0</td>\n",
       "      <td>1.0</td>\n",
       "    </tr>\n",
       "    <tr>\n",
       "      <th>1</th>\n",
       "      <td>0.000228</td>\n",
       "      <td>0.406593</td>\n",
       "      <td>0.625</td>\n",
       "      <td>0.0</td>\n",
       "      <td>0.0</td>\n",
       "      <td>0.0</td>\n",
       "      <td>0.0</td>\n",
       "      <td>0.0</td>\n",
       "      <td>1.0</td>\n",
       "      <td>0.0</td>\n",
       "      <td>...</td>\n",
       "      <td>0.0</td>\n",
       "      <td>0.0</td>\n",
       "      <td>0.0</td>\n",
       "      <td>0.0</td>\n",
       "      <td>0.0</td>\n",
       "      <td>0.0</td>\n",
       "      <td>0.0</td>\n",
       "      <td>0.0</td>\n",
       "      <td>0.0</td>\n",
       "      <td>1.0</td>\n",
       "    </tr>\n",
       "    <tr>\n",
       "      <th>2</th>\n",
       "      <td>0.000285</td>\n",
       "      <td>0.263736</td>\n",
       "      <td>0.750</td>\n",
       "      <td>0.0</td>\n",
       "      <td>0.0</td>\n",
       "      <td>0.0</td>\n",
       "      <td>0.0</td>\n",
       "      <td>0.0</td>\n",
       "      <td>0.0</td>\n",
       "      <td>0.0</td>\n",
       "      <td>...</td>\n",
       "      <td>0.0</td>\n",
       "      <td>0.0</td>\n",
       "      <td>0.0</td>\n",
       "      <td>0.0</td>\n",
       "      <td>0.0</td>\n",
       "      <td>0.0</td>\n",
       "      <td>0.0</td>\n",
       "      <td>0.0</td>\n",
       "      <td>0.0</td>\n",
       "      <td>0.0</td>\n",
       "    </tr>\n",
       "    <tr>\n",
       "      <th>3</th>\n",
       "      <td>0.000030</td>\n",
       "      <td>0.648352</td>\n",
       "      <td>0.750</td>\n",
       "      <td>0.0</td>\n",
       "      <td>0.0</td>\n",
       "      <td>0.0</td>\n",
       "      <td>0.0</td>\n",
       "      <td>1.0</td>\n",
       "      <td>0.0</td>\n",
       "      <td>0.0</td>\n",
       "      <td>...</td>\n",
       "      <td>0.0</td>\n",
       "      <td>0.0</td>\n",
       "      <td>0.0</td>\n",
       "      <td>0.0</td>\n",
       "      <td>0.0</td>\n",
       "      <td>0.0</td>\n",
       "      <td>0.0</td>\n",
       "      <td>0.0</td>\n",
       "      <td>0.0</td>\n",
       "      <td>1.0</td>\n",
       "    </tr>\n",
       "    <tr>\n",
       "      <th>4</th>\n",
       "      <td>0.000015</td>\n",
       "      <td>0.318681</td>\n",
       "      <td>0.875</td>\n",
       "      <td>0.0</td>\n",
       "      <td>0.0</td>\n",
       "      <td>0.0</td>\n",
       "      <td>0.0</td>\n",
       "      <td>0.0</td>\n",
       "      <td>0.0</td>\n",
       "      <td>0.0</td>\n",
       "      <td>...</td>\n",
       "      <td>0.0</td>\n",
       "      <td>0.0</td>\n",
       "      <td>0.0</td>\n",
       "      <td>0.0</td>\n",
       "      <td>0.0</td>\n",
       "      <td>0.0</td>\n",
       "      <td>0.0</td>\n",
       "      <td>0.0</td>\n",
       "      <td>0.0</td>\n",
       "      <td>1.0</td>\n",
       "    </tr>\n",
       "  </tbody>\n",
       "</table>\n",
       "<p>5 rows × 196 columns</p>\n",
       "</div>"
      ],
      "text/plain": [
       "   funding_goal  funding_period  launch_year  category_Comics   \n",
       "0      0.000012        0.318681        0.500              0.0  \\\n",
       "1      0.000228        0.406593        0.625              0.0   \n",
       "2      0.000285        0.263736        0.750              0.0   \n",
       "3      0.000030        0.648352        0.750              0.0   \n",
       "4      0.000015        0.318681        0.875              0.0   \n",
       "\n",
       "   category_Crafts  category_Dance  category_Design  category_Fashion   \n",
       "0              0.0             0.0              0.0               0.0  \\\n",
       "1              0.0             0.0              0.0               0.0   \n",
       "2              0.0             0.0              0.0               0.0   \n",
       "3              0.0             0.0              0.0               1.0   \n",
       "4              0.0             0.0              0.0               0.0   \n",
       "\n",
       "   category_Film & Video  category_Food  ...  country_Mexico   \n",
       "0                    0.0            0.0  ...             0.0  \\\n",
       "1                    1.0            0.0  ...             0.0   \n",
       "2                    0.0            0.0  ...             0.0   \n",
       "3                    0.0            0.0  ...             0.0   \n",
       "4                    0.0            0.0  ...             0.0   \n",
       "\n",
       "   country_Netherlands   country_New Zealand  country_Norway   \n",
       "0                   0.0                  0.0             0.0  \\\n",
       "1                   0.0                  0.0             0.0   \n",
       "2                   0.0                  0.0             0.0   \n",
       "3                   0.0                  0.0             0.0   \n",
       "4                   0.0                  0.0             0.0   \n",
       "\n",
       "   country_Singapore  country_Spain  country_Sweden  country_Switzerland   \n",
       "0                0.0            0.0             0.0                  0.0  \\\n",
       "1                0.0            0.0             0.0                  0.0   \n",
       "2                0.0            0.0             0.0                  0.0   \n",
       "3                0.0            0.0             0.0                  0.0   \n",
       "4                0.0            0.0             0.0                  0.0   \n",
       "\n",
       "   country_United Kingdom  country_United States  \n",
       "0                     0.0                    1.0  \n",
       "1                     0.0                    1.0  \n",
       "2                     0.0                    0.0  \n",
       "3                     0.0                    1.0  \n",
       "4                     0.0                    1.0  \n",
       "\n",
       "[5 rows x 196 columns]"
      ]
     },
     "execution_count": 11,
     "metadata": {},
     "output_type": "execute_result"
    }
   ],
   "source": [
    "# scaling the train data with standard scaler, I scaling the categories: funding_goal, funding_period and launch_year\n",
    "col_scale = ['funding_goal', 'funding_period', 'launch_year']\n",
    "scaler = MinMaxScaler()\n",
    "X_train_scaled = scaler.fit_transform(X_train[col_scale])\n",
    "X_train_preprocessed = np.concatenate([X_train_scaled, X_train.drop(col_scale, axis=1)], axis=1)\n",
    "X_train_preprocessed = pd.DataFrame(X_train_preprocessed)\n",
    "X_train_preprocessed.columns = X_train.columns\n",
    "X_train_preprocessed.head()"
   ]
  },
  {
   "cell_type": "code",
   "execution_count": 12,
   "metadata": {},
   "outputs": [
    {
     "data": {
      "text/html": [
       "<div>\n",
       "<style scoped>\n",
       "    .dataframe tbody tr th:only-of-type {\n",
       "        vertical-align: middle;\n",
       "    }\n",
       "\n",
       "    .dataframe tbody tr th {\n",
       "        vertical-align: top;\n",
       "    }\n",
       "\n",
       "    .dataframe thead th {\n",
       "        text-align: right;\n",
       "    }\n",
       "</style>\n",
       "<table border=\"1\" class=\"dataframe\">\n",
       "  <thead>\n",
       "    <tr style=\"text-align: right;\">\n",
       "      <th></th>\n",
       "      <th>funding_goal</th>\n",
       "      <th>funding_period</th>\n",
       "      <th>launch_year</th>\n",
       "      <th>category_Comics</th>\n",
       "      <th>category_Crafts</th>\n",
       "      <th>category_Dance</th>\n",
       "      <th>category_Design</th>\n",
       "      <th>category_Fashion</th>\n",
       "      <th>category_Film &amp; Video</th>\n",
       "      <th>category_Food</th>\n",
       "      <th>...</th>\n",
       "      <th>country_Mexico</th>\n",
       "      <th>country_Netherlands</th>\n",
       "      <th>country_New Zealand</th>\n",
       "      <th>country_Norway</th>\n",
       "      <th>country_Singapore</th>\n",
       "      <th>country_Spain</th>\n",
       "      <th>country_Sweden</th>\n",
       "      <th>country_Switzerland</th>\n",
       "      <th>country_United Kingdom</th>\n",
       "      <th>country_United States</th>\n",
       "    </tr>\n",
       "  </thead>\n",
       "  <tbody>\n",
       "    <tr>\n",
       "      <th>259864</th>\n",
       "      <td>4000</td>\n",
       "      <td>29</td>\n",
       "      <td>2016</td>\n",
       "      <td>0</td>\n",
       "      <td>0</td>\n",
       "      <td>0</td>\n",
       "      <td>0</td>\n",
       "      <td>0</td>\n",
       "      <td>0</td>\n",
       "      <td>0</td>\n",
       "      <td>...</td>\n",
       "      <td>0</td>\n",
       "      <td>0</td>\n",
       "      <td>0</td>\n",
       "      <td>0</td>\n",
       "      <td>0</td>\n",
       "      <td>0</td>\n",
       "      <td>0</td>\n",
       "      <td>0</td>\n",
       "      <td>0</td>\n",
       "      <td>1</td>\n",
       "    </tr>\n",
       "    <tr>\n",
       "      <th>75338</th>\n",
       "      <td>2000</td>\n",
       "      <td>29</td>\n",
       "      <td>2013</td>\n",
       "      <td>0</td>\n",
       "      <td>0</td>\n",
       "      <td>0</td>\n",
       "      <td>0</td>\n",
       "      <td>0</td>\n",
       "      <td>0</td>\n",
       "      <td>0</td>\n",
       "      <td>...</td>\n",
       "      <td>0</td>\n",
       "      <td>0</td>\n",
       "      <td>0</td>\n",
       "      <td>0</td>\n",
       "      <td>0</td>\n",
       "      <td>0</td>\n",
       "      <td>0</td>\n",
       "      <td>0</td>\n",
       "      <td>0</td>\n",
       "      <td>1</td>\n",
       "    </tr>\n",
       "    <tr>\n",
       "      <th>179807</th>\n",
       "      <td>195909</td>\n",
       "      <td>29</td>\n",
       "      <td>2015</td>\n",
       "      <td>0</td>\n",
       "      <td>0</td>\n",
       "      <td>0</td>\n",
       "      <td>0</td>\n",
       "      <td>0</td>\n",
       "      <td>0</td>\n",
       "      <td>0</td>\n",
       "      <td>...</td>\n",
       "      <td>0</td>\n",
       "      <td>0</td>\n",
       "      <td>0</td>\n",
       "      <td>0</td>\n",
       "      <td>0</td>\n",
       "      <td>0</td>\n",
       "      <td>0</td>\n",
       "      <td>0</td>\n",
       "      <td>0</td>\n",
       "      <td>0</td>\n",
       "    </tr>\n",
       "    <tr>\n",
       "      <th>327632</th>\n",
       "      <td>1214</td>\n",
       "      <td>29</td>\n",
       "      <td>2017</td>\n",
       "      <td>0</td>\n",
       "      <td>0</td>\n",
       "      <td>0</td>\n",
       "      <td>0</td>\n",
       "      <td>0</td>\n",
       "      <td>0</td>\n",
       "      <td>0</td>\n",
       "      <td>...</td>\n",
       "      <td>0</td>\n",
       "      <td>0</td>\n",
       "      <td>0</td>\n",
       "      <td>0</td>\n",
       "      <td>0</td>\n",
       "      <td>0</td>\n",
       "      <td>0</td>\n",
       "      <td>0</td>\n",
       "      <td>1</td>\n",
       "      <td>0</td>\n",
       "    </tr>\n",
       "    <tr>\n",
       "      <th>192323</th>\n",
       "      <td>1000</td>\n",
       "      <td>29</td>\n",
       "      <td>2015</td>\n",
       "      <td>0</td>\n",
       "      <td>0</td>\n",
       "      <td>0</td>\n",
       "      <td>0</td>\n",
       "      <td>0</td>\n",
       "      <td>0</td>\n",
       "      <td>0</td>\n",
       "      <td>...</td>\n",
       "      <td>0</td>\n",
       "      <td>0</td>\n",
       "      <td>0</td>\n",
       "      <td>0</td>\n",
       "      <td>0</td>\n",
       "      <td>0</td>\n",
       "      <td>0</td>\n",
       "      <td>0</td>\n",
       "      <td>0</td>\n",
       "      <td>1</td>\n",
       "    </tr>\n",
       "  </tbody>\n",
       "</table>\n",
       "<p>5 rows × 196 columns</p>\n",
       "</div>"
      ],
      "text/plain": [
       "        funding_goal  funding_period  launch_year  category_Comics   \n",
       "259864          4000              29         2016                0  \\\n",
       "75338           2000              29         2013                0   \n",
       "179807        195909              29         2015                0   \n",
       "327632          1214              29         2017                0   \n",
       "192323          1000              29         2015                0   \n",
       "\n",
       "        category_Crafts  category_Dance  category_Design  category_Fashion   \n",
       "259864                0               0                0                 0  \\\n",
       "75338                 0               0                0                 0   \n",
       "179807                0               0                0                 0   \n",
       "327632                0               0                0                 0   \n",
       "192323                0               0                0                 0   \n",
       "\n",
       "        category_Film & Video  category_Food  ...  country_Mexico   \n",
       "259864                      0              0  ...               0  \\\n",
       "75338                       0              0  ...               0   \n",
       "179807                      0              0  ...               0   \n",
       "327632                      0              0  ...               0   \n",
       "192323                      0              0  ...               0   \n",
       "\n",
       "        country_Netherlands   country_New Zealand  country_Norway   \n",
       "259864                     0                    0               0  \\\n",
       "75338                      0                    0               0   \n",
       "179807                     0                    0               0   \n",
       "327632                     0                    0               0   \n",
       "192323                     0                    0               0   \n",
       "\n",
       "        country_Singapore  country_Spain  country_Sweden  country_Switzerland   \n",
       "259864                  0              0               0                    0  \\\n",
       "75338                   0              0               0                    0   \n",
       "179807                  0              0               0                    0   \n",
       "327632                  0              0               0                    0   \n",
       "192323                  0              0               0                    0   \n",
       "\n",
       "        country_United Kingdom  country_United States  \n",
       "259864                       0                      1  \n",
       "75338                        0                      1  \n",
       "179807                       0                      0  \n",
       "327632                       1                      0  \n",
       "192323                       0                      1  \n",
       "\n",
       "[5 rows x 196 columns]"
      ]
     },
     "execution_count": 12,
     "metadata": {},
     "output_type": "execute_result"
    }
   ],
   "source": [
    "X_test.head()"
   ]
  },
  {
   "cell_type": "code",
   "execution_count": 13,
   "metadata": {},
   "outputs": [
    {
     "data": {
      "text/html": [
       "<div>\n",
       "<style scoped>\n",
       "    .dataframe tbody tr th:only-of-type {\n",
       "        vertical-align: middle;\n",
       "    }\n",
       "\n",
       "    .dataframe tbody tr th {\n",
       "        vertical-align: top;\n",
       "    }\n",
       "\n",
       "    .dataframe thead th {\n",
       "        text-align: right;\n",
       "    }\n",
       "</style>\n",
       "<table border=\"1\" class=\"dataframe\">\n",
       "  <thead>\n",
       "    <tr style=\"text-align: right;\">\n",
       "      <th></th>\n",
       "      <th>funding_goal</th>\n",
       "      <th>funding_period</th>\n",
       "      <th>launch_year</th>\n",
       "      <th>category_Comics</th>\n",
       "      <th>category_Crafts</th>\n",
       "      <th>category_Dance</th>\n",
       "      <th>category_Design</th>\n",
       "      <th>category_Fashion</th>\n",
       "      <th>category_Film &amp; Video</th>\n",
       "      <th>category_Food</th>\n",
       "      <th>...</th>\n",
       "      <th>country_Mexico</th>\n",
       "      <th>country_Netherlands</th>\n",
       "      <th>country_New Zealand</th>\n",
       "      <th>country_Norway</th>\n",
       "      <th>country_Singapore</th>\n",
       "      <th>country_Spain</th>\n",
       "      <th>country_Sweden</th>\n",
       "      <th>country_Switzerland</th>\n",
       "      <th>country_United Kingdom</th>\n",
       "      <th>country_United States</th>\n",
       "    </tr>\n",
       "  </thead>\n",
       "  <tbody>\n",
       "    <tr>\n",
       "      <th>0</th>\n",
       "      <td>0.000037</td>\n",
       "      <td>0.318681</td>\n",
       "      <td>0.875</td>\n",
       "      <td>0.0</td>\n",
       "      <td>0.0</td>\n",
       "      <td>0.0</td>\n",
       "      <td>0.0</td>\n",
       "      <td>0.0</td>\n",
       "      <td>0.0</td>\n",
       "      <td>0.0</td>\n",
       "      <td>...</td>\n",
       "      <td>0.0</td>\n",
       "      <td>0.0</td>\n",
       "      <td>0.0</td>\n",
       "      <td>0.0</td>\n",
       "      <td>0.0</td>\n",
       "      <td>0.0</td>\n",
       "      <td>0.0</td>\n",
       "      <td>0.0</td>\n",
       "      <td>0.0</td>\n",
       "      <td>1.0</td>\n",
       "    </tr>\n",
       "    <tr>\n",
       "      <th>1</th>\n",
       "      <td>0.000019</td>\n",
       "      <td>0.318681</td>\n",
       "      <td>0.500</td>\n",
       "      <td>0.0</td>\n",
       "      <td>0.0</td>\n",
       "      <td>0.0</td>\n",
       "      <td>0.0</td>\n",
       "      <td>0.0</td>\n",
       "      <td>0.0</td>\n",
       "      <td>0.0</td>\n",
       "      <td>...</td>\n",
       "      <td>0.0</td>\n",
       "      <td>0.0</td>\n",
       "      <td>0.0</td>\n",
       "      <td>0.0</td>\n",
       "      <td>0.0</td>\n",
       "      <td>0.0</td>\n",
       "      <td>0.0</td>\n",
       "      <td>0.0</td>\n",
       "      <td>0.0</td>\n",
       "      <td>1.0</td>\n",
       "    </tr>\n",
       "    <tr>\n",
       "      <th>2</th>\n",
       "      <td>0.001825</td>\n",
       "      <td>0.318681</td>\n",
       "      <td>0.750</td>\n",
       "      <td>0.0</td>\n",
       "      <td>0.0</td>\n",
       "      <td>0.0</td>\n",
       "      <td>0.0</td>\n",
       "      <td>0.0</td>\n",
       "      <td>0.0</td>\n",
       "      <td>0.0</td>\n",
       "      <td>...</td>\n",
       "      <td>0.0</td>\n",
       "      <td>0.0</td>\n",
       "      <td>0.0</td>\n",
       "      <td>0.0</td>\n",
       "      <td>0.0</td>\n",
       "      <td>0.0</td>\n",
       "      <td>0.0</td>\n",
       "      <td>0.0</td>\n",
       "      <td>0.0</td>\n",
       "      <td>0.0</td>\n",
       "    </tr>\n",
       "    <tr>\n",
       "      <th>3</th>\n",
       "      <td>0.000011</td>\n",
       "      <td>0.318681</td>\n",
       "      <td>1.000</td>\n",
       "      <td>0.0</td>\n",
       "      <td>0.0</td>\n",
       "      <td>0.0</td>\n",
       "      <td>0.0</td>\n",
       "      <td>0.0</td>\n",
       "      <td>0.0</td>\n",
       "      <td>0.0</td>\n",
       "      <td>...</td>\n",
       "      <td>0.0</td>\n",
       "      <td>0.0</td>\n",
       "      <td>0.0</td>\n",
       "      <td>0.0</td>\n",
       "      <td>0.0</td>\n",
       "      <td>0.0</td>\n",
       "      <td>0.0</td>\n",
       "      <td>0.0</td>\n",
       "      <td>1.0</td>\n",
       "      <td>0.0</td>\n",
       "    </tr>\n",
       "    <tr>\n",
       "      <th>4</th>\n",
       "      <td>0.000009</td>\n",
       "      <td>0.318681</td>\n",
       "      <td>0.750</td>\n",
       "      <td>0.0</td>\n",
       "      <td>0.0</td>\n",
       "      <td>0.0</td>\n",
       "      <td>0.0</td>\n",
       "      <td>0.0</td>\n",
       "      <td>0.0</td>\n",
       "      <td>0.0</td>\n",
       "      <td>...</td>\n",
       "      <td>0.0</td>\n",
       "      <td>0.0</td>\n",
       "      <td>0.0</td>\n",
       "      <td>0.0</td>\n",
       "      <td>0.0</td>\n",
       "      <td>0.0</td>\n",
       "      <td>0.0</td>\n",
       "      <td>0.0</td>\n",
       "      <td>0.0</td>\n",
       "      <td>1.0</td>\n",
       "    </tr>\n",
       "  </tbody>\n",
       "</table>\n",
       "<p>5 rows × 196 columns</p>\n",
       "</div>"
      ],
      "text/plain": [
       "   funding_goal  funding_period  launch_year  category_Comics   \n",
       "0      0.000037        0.318681        0.875              0.0  \\\n",
       "1      0.000019        0.318681        0.500              0.0   \n",
       "2      0.001825        0.318681        0.750              0.0   \n",
       "3      0.000011        0.318681        1.000              0.0   \n",
       "4      0.000009        0.318681        0.750              0.0   \n",
       "\n",
       "   category_Crafts  category_Dance  category_Design  category_Fashion   \n",
       "0              0.0             0.0              0.0               0.0  \\\n",
       "1              0.0             0.0              0.0               0.0   \n",
       "2              0.0             0.0              0.0               0.0   \n",
       "3              0.0             0.0              0.0               0.0   \n",
       "4              0.0             0.0              0.0               0.0   \n",
       "\n",
       "   category_Film & Video  category_Food  ...  country_Mexico   \n",
       "0                    0.0            0.0  ...             0.0  \\\n",
       "1                    0.0            0.0  ...             0.0   \n",
       "2                    0.0            0.0  ...             0.0   \n",
       "3                    0.0            0.0  ...             0.0   \n",
       "4                    0.0            0.0  ...             0.0   \n",
       "\n",
       "   country_Netherlands   country_New Zealand  country_Norway   \n",
       "0                   0.0                  0.0             0.0  \\\n",
       "1                   0.0                  0.0             0.0   \n",
       "2                   0.0                  0.0             0.0   \n",
       "3                   0.0                  0.0             0.0   \n",
       "4                   0.0                  0.0             0.0   \n",
       "\n",
       "   country_Singapore  country_Spain  country_Sweden  country_Switzerland   \n",
       "0                0.0            0.0             0.0                  0.0  \\\n",
       "1                0.0            0.0             0.0                  0.0   \n",
       "2                0.0            0.0             0.0                  0.0   \n",
       "3                0.0            0.0             0.0                  0.0   \n",
       "4                0.0            0.0             0.0                  0.0   \n",
       "\n",
       "   country_United Kingdom  country_United States  \n",
       "0                     0.0                    1.0  \n",
       "1                     0.0                    1.0  \n",
       "2                     0.0                    0.0  \n",
       "3                     1.0                    0.0  \n",
       "4                     0.0                    1.0  \n",
       "\n",
       "[5 rows x 196 columns]"
      ]
     },
     "execution_count": 13,
     "metadata": {},
     "output_type": "execute_result"
    }
   ],
   "source": [
    "# scaling the test data the same way\n",
    "X_test_scaled = scaler.fit_transform(X_test[col_scale])\n",
    "X_test_preprocessed = np.concatenate([X_test_scaled, X_test.drop(col_scale, axis=1)], axis=1)\n",
    "X_test_preprocessed = pd.DataFrame(X_test_preprocessed)\n",
    "X_test_preprocessed.columns = X_test.columns\n",
    "X_test_preprocessed.head()"
   ]
  },
  {
   "cell_type": "code",
   "execution_count": 14,
   "metadata": {},
   "outputs": [
    {
     "data": {
      "text/html": [
       "<style>#sk-container-id-2 {color: black;background-color: white;}#sk-container-id-2 pre{padding: 0;}#sk-container-id-2 div.sk-toggleable {background-color: white;}#sk-container-id-2 label.sk-toggleable__label {cursor: pointer;display: block;width: 100%;margin-bottom: 0;padding: 0.3em;box-sizing: border-box;text-align: center;}#sk-container-id-2 label.sk-toggleable__label-arrow:before {content: \"▸\";float: left;margin-right: 0.25em;color: #696969;}#sk-container-id-2 label.sk-toggleable__label-arrow:hover:before {color: black;}#sk-container-id-2 div.sk-estimator:hover label.sk-toggleable__label-arrow:before {color: black;}#sk-container-id-2 div.sk-toggleable__content {max-height: 0;max-width: 0;overflow: hidden;text-align: left;background-color: #f0f8ff;}#sk-container-id-2 div.sk-toggleable__content pre {margin: 0.2em;color: black;border-radius: 0.25em;background-color: #f0f8ff;}#sk-container-id-2 input.sk-toggleable__control:checked~div.sk-toggleable__content {max-height: 200px;max-width: 100%;overflow: auto;}#sk-container-id-2 input.sk-toggleable__control:checked~label.sk-toggleable__label-arrow:before {content: \"▾\";}#sk-container-id-2 div.sk-estimator input.sk-toggleable__control:checked~label.sk-toggleable__label {background-color: #d4ebff;}#sk-container-id-2 div.sk-label input.sk-toggleable__control:checked~label.sk-toggleable__label {background-color: #d4ebff;}#sk-container-id-2 input.sk-hidden--visually {border: 0;clip: rect(1px 1px 1px 1px);clip: rect(1px, 1px, 1px, 1px);height: 1px;margin: -1px;overflow: hidden;padding: 0;position: absolute;width: 1px;}#sk-container-id-2 div.sk-estimator {font-family: monospace;background-color: #f0f8ff;border: 1px dotted black;border-radius: 0.25em;box-sizing: border-box;margin-bottom: 0.5em;}#sk-container-id-2 div.sk-estimator:hover {background-color: #d4ebff;}#sk-container-id-2 div.sk-parallel-item::after {content: \"\";width: 100%;border-bottom: 1px solid gray;flex-grow: 1;}#sk-container-id-2 div.sk-label:hover label.sk-toggleable__label {background-color: #d4ebff;}#sk-container-id-2 div.sk-serial::before {content: \"\";position: absolute;border-left: 1px solid gray;box-sizing: border-box;top: 0;bottom: 0;left: 50%;z-index: 0;}#sk-container-id-2 div.sk-serial {display: flex;flex-direction: column;align-items: center;background-color: white;padding-right: 0.2em;padding-left: 0.2em;position: relative;}#sk-container-id-2 div.sk-item {position: relative;z-index: 1;}#sk-container-id-2 div.sk-parallel {display: flex;align-items: stretch;justify-content: center;background-color: white;position: relative;}#sk-container-id-2 div.sk-item::before, #sk-container-id-2 div.sk-parallel-item::before {content: \"\";position: absolute;border-left: 1px solid gray;box-sizing: border-box;top: 0;bottom: 0;left: 50%;z-index: -1;}#sk-container-id-2 div.sk-parallel-item {display: flex;flex-direction: column;z-index: 1;position: relative;background-color: white;}#sk-container-id-2 div.sk-parallel-item:first-child::after {align-self: flex-end;width: 50%;}#sk-container-id-2 div.sk-parallel-item:last-child::after {align-self: flex-start;width: 50%;}#sk-container-id-2 div.sk-parallel-item:only-child::after {width: 0;}#sk-container-id-2 div.sk-dashed-wrapped {border: 1px dashed gray;margin: 0 0.4em 0.5em 0.4em;box-sizing: border-box;padding-bottom: 0.4em;background-color: white;}#sk-container-id-2 div.sk-label label {font-family: monospace;font-weight: bold;display: inline-block;line-height: 1.2em;}#sk-container-id-2 div.sk-label-container {text-align: center;}#sk-container-id-2 div.sk-container {/* jupyter's `normalize.less` sets `[hidden] { display: none; }` but bootstrap.min.css set `[hidden] { display: none !important; }` so we also need the `!important` here to be able to override the default hidden behavior on the sphinx rendered scikit-learn.org. See: https://github.com/scikit-learn/scikit-learn/issues/21755 */display: inline-block !important;position: relative;}#sk-container-id-2 div.sk-text-repr-fallback {display: none;}</style><div id=\"sk-container-id-2\" class=\"sk-top-container\"><div class=\"sk-text-repr-fallback\"><pre>XGBClassifier(base_score=None, booster=None, callbacks=None,\n",
       "              colsample_bylevel=None, colsample_bynode=None,\n",
       "              colsample_bytree=None, early_stopping_rounds=None,\n",
       "              enable_categorical=False, eval_metric=None, feature_types=None,\n",
       "              gamma=None, gpu_id=None, grow_policy=None, importance_type=None,\n",
       "              interaction_constraints=None, learning_rate=None, max_bin=None,\n",
       "              max_cat_threshold=None, max_cat_to_onehot=None,\n",
       "              max_delta_step=None, max_depth=None, max_leaves=None,\n",
       "              min_child_weight=None, missing=nan, monotone_constraints=None,\n",
       "              n_estimators=100, n_jobs=None, num_parallel_tree=None,\n",
       "              predictor=None, random_state=None, ...)</pre><b>In a Jupyter environment, please rerun this cell to show the HTML representation or trust the notebook. <br />On GitHub, the HTML representation is unable to render, please try loading this page with nbviewer.org.</b></div><div class=\"sk-container\" hidden><div class=\"sk-item\"><div class=\"sk-estimator sk-toggleable\"><input class=\"sk-toggleable__control sk-hidden--visually\" id=\"sk-estimator-id-2\" type=\"checkbox\" checked><label for=\"sk-estimator-id-2\" class=\"sk-toggleable__label sk-toggleable__label-arrow\">XGBClassifier</label><div class=\"sk-toggleable__content\"><pre>XGBClassifier(base_score=None, booster=None, callbacks=None,\n",
       "              colsample_bylevel=None, colsample_bynode=None,\n",
       "              colsample_bytree=None, early_stopping_rounds=None,\n",
       "              enable_categorical=False, eval_metric=None, feature_types=None,\n",
       "              gamma=None, gpu_id=None, grow_policy=None, importance_type=None,\n",
       "              interaction_constraints=None, learning_rate=None, max_bin=None,\n",
       "              max_cat_threshold=None, max_cat_to_onehot=None,\n",
       "              max_delta_step=None, max_depth=None, max_leaves=None,\n",
       "              min_child_weight=None, missing=nan, monotone_constraints=None,\n",
       "              n_estimators=100, n_jobs=None, num_parallel_tree=None,\n",
       "              predictor=None, random_state=None, ...)</pre></div></div></div></div></div>"
      ],
      "text/plain": [
       "XGBClassifier(base_score=None, booster=None, callbacks=None,\n",
       "              colsample_bylevel=None, colsample_bynode=None,\n",
       "              colsample_bytree=None, early_stopping_rounds=None,\n",
       "              enable_categorical=False, eval_metric=None, feature_types=None,\n",
       "              gamma=None, gpu_id=None, grow_policy=None, importance_type=None,\n",
       "              interaction_constraints=None, learning_rate=None, max_bin=None,\n",
       "              max_cat_threshold=None, max_cat_to_onehot=None,\n",
       "              max_delta_step=None, max_depth=None, max_leaves=None,\n",
       "              min_child_weight=None, missing=nan, monotone_constraints=None,\n",
       "              n_estimators=100, n_jobs=None, num_parallel_tree=None,\n",
       "              predictor=None, random_state=None, ...)"
      ]
     },
     "execution_count": 14,
     "metadata": {},
     "output_type": "execute_result"
    }
   ],
   "source": [
    "# train the XGBoost model with the scaled X data\n",
    "boost2 = XGBClassifier()\n",
    "boost2.fit(X_train_preprocessed, y_train)"
   ]
  },
  {
   "cell_type": "code",
   "execution_count": 15,
   "metadata": {},
   "outputs": [],
   "source": [
    "# predictions\n",
    "y_pred_train_pros = boost2.predict(X_train_preprocessed)\n",
    "y_pred_pros = boost2.predict(X_test_preprocessed)"
   ]
  },
  {
   "cell_type": "code",
   "execution_count": 16,
   "metadata": {},
   "outputs": [
    {
     "data": {
      "text/plain": [
       "<Axes: xlabel='Predicted', ylabel='Actual'>"
      ]
     },
     "execution_count": 16,
     "metadata": {},
     "output_type": "execute_result"
    },
    {
     "data": {
      "image/png": "[encoded data removed]",
      "text/plain": [
       "<Figure size 640x480 with 2 Axes>"
      ]
     },
     "metadata": {},
     "output_type": "display_data"
    }
   ],
   "source": [
    "# Confusion matrix using pandas crosstab\n",
    "conf_matrix= pd.crosstab(y_test, y_pred_pros, rownames=['Actual'], colnames=['Predicted'])\n",
    "sns.heatmap(conf_matrix, annot=True)"
   ]
  },
  {
   "cell_type": "markdown",
   "metadata": {},
   "source": [
    "## Interpretation\n",
    "\n",
    "Looking at the false negatives and the true positives, the model actually got a bit worse"
   ]
  },
  {
   "cell_type": "code",
   "execution_count": 17,
   "metadata": {},
   "outputs": [
    {
     "name": "stdout",
     "output_type": "stream",
     "text": [
      "Train accuracy is : 0.701829474327825\n",
      "Test accuracy is : 0.6895349117852919\n",
      "---------------------------------------------------\n",
      "Train precision is : 0.5381754735792622\n",
      "Test precision is : 0.45706536317844476\n",
      "---------------------------------------------------\n",
      "Train recall is : 0.660035215573109\n",
      "Test recall is : 0.6712334763197059\n",
      "---------------------------------------------------\n",
      "Train f1 score is : 0.5929086894915477\n",
      "Test f1 score is : 0.5438232530099119\n",
      "---------------------------------------------------\n",
      "Train roc_auc is : 0.6911773425809962\n",
      "Test roc_auc is : 0.6838673212988066\n"
     ]
    }
   ],
   "source": [
    "get_scores(y_pred_train_pros, y_pred_pros)"
   ]
  },
  {
   "cell_type": "markdown",
   "metadata": {},
   "source": [
    "It actually looks like the scaled data has actually worse outcome"
   ]
  },
  {
   "cell_type": "markdown",
   "metadata": {},
   "source": [
    "## Starting the RandomSearches\n",
    "\n",
    "I am now using RandomSearch to find the best conditions for the model. At first I decided to improve for precision."
   ]
  },
  {
   "cell_type": "code",
   "execution_count": 18,
   "metadata": {},
   "outputs": [
    {
     "name": "stdout",
     "output_type": "stream",
     "text": [
      "Fitting 5 folds for each of 10 candidates, totalling 50 fits\n",
      "[CV 4/5] END ......max_depth=6, n_estimators=10;, score=0.647 total time= 1.3min\n",
      "[CV 2/5] END ......max_depth=6, n_estimators=10;, score=0.652 total time= 1.3min\n",
      "[CV 3/5] END ......max_depth=6, n_estimators=10;, score=0.645 total time= 1.3min\n",
      "[CV 5/5] END ......max_depth=6, n_estimators=10;, score=0.643 total time= 1.3min\n",
      "[CV 1/5] END ......max_depth=6, n_estimators=10;, score=0.645 total time= 1.3min\n",
      "[CV 3/5] END ......max_depth=3, n_estimators=10;, score=0.660 total time=  41.6s\n",
      "[CV 1/5] END ......max_depth=3, n_estimators=10;, score=0.631 total time=  42.0s\n",
      "[CV 2/5] END ......max_depth=3, n_estimators=10;, score=0.653 total time=  42.1s\n",
      "[CV 3/5] END ......max_depth=3, n_estimators=30;, score=0.653 total time= 2.1min\n",
      "[CV 2/5] END ......max_depth=3, n_estimators=30;, score=0.651 total time= 2.1min\n",
      "[CV 1/5] END ......max_depth=3, n_estimators=30;, score=0.644 total time= 2.1min\n",
      "[CV 5/5] END ......max_depth=3, n_estimators=10;, score=0.632 total time=  45.0s\n",
      "[CV 4/5] END ......max_depth=3, n_estimators=10;, score=0.636 total time=  45.8s\n",
      "[CV 5/5] END ......max_depth=3, n_estimators=30;, score=0.641 total time= 2.1min\n",
      "[CV 4/5] END ......max_depth=3, n_estimators=30;, score=0.654 total time= 2.1min\n",
      "[CV 1/5] END ......max_depth=2, n_estimators=30;, score=0.649 total time= 1.6min\n",
      "[CV 2/5] END ......max_depth=2, n_estimators=30;, score=0.654 total time= 1.6min\n",
      "[CV 4/5] END ......max_depth=2, n_estimators=30;, score=0.658 total time= 1.6min\n",
      "[CV 3/5] END ......max_depth=2, n_estimators=30;, score=0.654 total time= 1.6min\n",
      "[CV 5/5] END ......max_depth=2, n_estimators=30;, score=0.646 total time= 1.7min\n",
      "[CV 2/5] END ......max_depth=3, n_estimators=20;, score=0.653 total time= 1.6min\n",
      "[CV 1/5] END ......max_depth=3, n_estimators=20;, score=0.644 total time= 1.6min\n",
      "[CV 1/5] END ......max_depth=6, n_estimators=20;, score=0.646 total time= 2.7min\n",
      "[CV 3/5] END ......max_depth=3, n_estimators=20;, score=0.655 total time= 1.5min\n",
      "[CV 2/5] END ......max_depth=6, n_estimators=20;, score=0.650 total time= 2.8min\n",
      "[CV 3/5] END ......max_depth=6, n_estimators=20;, score=0.649 total time= 2.8min\n",
      "[CV 4/5] END ......max_depth=6, n_estimators=20;, score=0.647 total time= 2.8min\n",
      "[CV 5/5] END ......max_depth=6, n_estimators=20;, score=0.642 total time= 2.8min\n",
      "[CV 4/5] END ......max_depth=3, n_estimators=20;, score=0.651 total time= 1.6min\n",
      "[CV 5/5] END ......max_depth=3, n_estimators=20;, score=0.640 total time= 1.6min\n",
      "[CV 1/5] END ......max_depth=2, n_estimators=20;, score=0.645 total time= 1.2min\n",
      "[CV 3/5] END ......max_depth=2, n_estimators=20;, score=0.663 total time= 1.1min\n",
      "[CV 2/5] END ......max_depth=2, n_estimators=20;, score=0.651 total time= 1.1min\n",
      "[CV 4/5] END ......max_depth=2, n_estimators=20;, score=0.658 total time= 1.1min\n",
      "[CV 5/5] END ......max_depth=2, n_estimators=20;, score=0.643 total time= 1.1min\n",
      "[CV 1/5] END ......max_depth=4, n_estimators=20;, score=0.646 total time= 1.8min\n",
      "[CV 2/5] END ......max_depth=4, n_estimators=20;, score=0.650 total time= 1.7min\n",
      "[CV 3/5] END ......max_depth=4, n_estimators=20;, score=0.652 total time= 1.7min\n",
      "[CV 1/5] END .....max_depth=10, n_estimators=30;, score=0.640 total time= 6.1min\n",
      "[CV 4/5] END ......max_depth=4, n_estimators=20;, score=0.646 total time= 1.8min\n",
      "[CV 2/5] END .....max_depth=10, n_estimators=30;, score=0.646 total time= 6.1min\n",
      "[CV 4/5] END .....max_depth=10, n_estimators=30;, score=0.641 total time= 6.0min\n",
      "[CV 3/5] END .....max_depth=10, n_estimators=30;, score=0.641 total time= 6.1min\n",
      "[CV 5/5] END ......max_depth=4, n_estimators=20;, score=0.639 total time= 1.9min\n",
      "[CV 5/5] END .....max_depth=10, n_estimators=30;, score=0.639 total time= 6.0min\n",
      "[CV 1/5] END .....max_depth=10, n_estimators=20;, score=0.641 total time= 3.0min\n",
      "[CV 3/5] END .....max_depth=10, n_estimators=20;, score=0.642 total time= 2.6min\n",
      "[CV 2/5] END .....max_depth=10, n_estimators=20;, score=0.645 total time= 2.6min\n",
      "[CV 4/5] END .....max_depth=10, n_estimators=20;, score=0.641 total time= 2.1min\n",
      "[CV 5/5] END .....max_depth=10, n_estimators=20;, score=0.641 total time= 2.1min\n"
     ]
    },
    {
     "data": {
      "text/html": [
       "<style>#sk-container-id-3 {color: black;background-color: white;}#sk-container-id-3 pre{padding: 0;}#sk-container-id-3 div.sk-toggleable {background-color: white;}#sk-container-id-3 label.sk-toggleable__label {cursor: pointer;display: block;width: 100%;margin-bottom: 0;padding: 0.3em;box-sizing: border-box;text-align: center;}#sk-container-id-3 label.sk-toggleable__label-arrow:before {content: \"▸\";float: left;margin-right: 0.25em;color: #696969;}#sk-container-id-3 label.sk-toggleable__label-arrow:hover:before {color: black;}#sk-container-id-3 div.sk-estimator:hover label.sk-toggleable__label-arrow:before {color: black;}#sk-container-id-3 div.sk-toggleable__content {max-height: 0;max-width: 0;overflow: hidden;text-align: left;background-color: #f0f8ff;}#sk-container-id-3 div.sk-toggleable__content pre {margin: 0.2em;color: black;border-radius: 0.25em;background-color: #f0f8ff;}#sk-container-id-3 input.sk-toggleable__control:checked~div.sk-toggleable__content {max-height: 200px;max-width: 100%;overflow: auto;}#sk-container-id-3 input.sk-toggleable__control:checked~label.sk-toggleable__label-arrow:before {content: \"▾\";}#sk-container-id-3 div.sk-estimator input.sk-toggleable__control:checked~label.sk-toggleable__label {background-color: #d4ebff;}#sk-container-id-3 div.sk-label input.sk-toggleable__control:checked~label.sk-toggleable__label {background-color: #d4ebff;}#sk-container-id-3 input.sk-hidden--visually {border: 0;clip: rect(1px 1px 1px 1px);clip: rect(1px, 1px, 1px, 1px);height: 1px;margin: -1px;overflow: hidden;padding: 0;position: absolute;width: 1px;}#sk-container-id-3 div.sk-estimator {font-family: monospace;background-color: #f0f8ff;border: 1px dotted black;border-radius: 0.25em;box-sizing: border-box;margin-bottom: 0.5em;}#sk-container-id-3 div.sk-estimator:hover {background-color: #d4ebff;}#sk-container-id-3 div.sk-parallel-item::after {content: \"\";width: 100%;border-bottom: 1px solid gray;flex-grow: 1;}#sk-container-id-3 div.sk-label:hover label.sk-toggleable__label {background-color: #d4ebff;}#sk-container-id-3 div.sk-serial::before {content: \"\";position: absolute;border-left: 1px solid gray;box-sizing: border-box;top: 0;bottom: 0;left: 50%;z-index: 0;}#sk-container-id-3 div.sk-serial {display: flex;flex-direction: column;align-items: center;background-color: white;padding-right: 0.2em;padding-left: 0.2em;position: relative;}#sk-container-id-3 div.sk-item {position: relative;z-index: 1;}#sk-container-id-3 div.sk-parallel {display: flex;align-items: stretch;justify-content: center;background-color: white;position: relative;}#sk-container-id-3 div.sk-item::before, #sk-container-id-3 div.sk-parallel-item::before {content: \"\";position: absolute;border-left: 1px solid gray;box-sizing: border-box;top: 0;bottom: 0;left: 50%;z-index: -1;}#sk-container-id-3 div.sk-parallel-item {display: flex;flex-direction: column;z-index: 1;position: relative;background-color: white;}#sk-container-id-3 div.sk-parallel-item:first-child::after {align-self: flex-end;width: 50%;}#sk-container-id-3 div.sk-parallel-item:last-child::after {align-self: flex-start;width: 50%;}#sk-container-id-3 div.sk-parallel-item:only-child::after {width: 0;}#sk-container-id-3 div.sk-dashed-wrapped {border: 1px dashed gray;margin: 0 0.4em 0.5em 0.4em;box-sizing: border-box;padding-bottom: 0.4em;background-color: white;}#sk-container-id-3 div.sk-label label {font-family: monospace;font-weight: bold;display: inline-block;line-height: 1.2em;}#sk-container-id-3 div.sk-label-container {text-align: center;}#sk-container-id-3 div.sk-container {/* jupyter's `normalize.less` sets `[hidden] { display: none; }` but bootstrap.min.css set `[hidden] { display: none !important; }` so we also need the `!important` here to be able to override the default hidden behavior on the sphinx rendered scikit-learn.org. See: https://github.com/scikit-learn/scikit-learn/issues/21755 */display: inline-block !important;position: relative;}#sk-container-id-3 div.sk-text-repr-fallback {display: none;}</style><div id=\"sk-container-id-3\" class=\"sk-top-container\"><div class=\"sk-text-repr-fallback\"><pre>RandomizedSearchCV(cv=5,\n",
       "                   estimator=XGBClassifier(base_score=None, booster=None,\n",
       "                                           callbacks=None,\n",
       "                                           colsample_bylevel=None,\n",
       "                                           colsample_bynode=None,\n",
       "                                           colsample_bytree=None,\n",
       "                                           early_stopping_rounds=None,\n",
       "                                           enable_categorical=False,\n",
       "                                           eval_metric=None, feature_types=None,\n",
       "                                           gamma=None, gpu_id=None,\n",
       "                                           grow_policy=None,\n",
       "                                           importance_type=None,\n",
       "                                           interaction_constraints=None,\n",
       "                                           learning_rate...\n",
       "                                           max_cat_to_onehot=None,\n",
       "                                           max_delta_step=None, max_depth=None,\n",
       "                                           max_leaves=None,\n",
       "                                           min_child_weight=None, missing=nan,\n",
       "                                           monotone_constraints=None,\n",
       "                                           n_estimators=100, n_jobs=None,\n",
       "                                           num_parallel_tree=None,\n",
       "                                           predictor=None, random_state=None, ...),\n",
       "                   n_jobs=-1,\n",
       "                   param_distributions={&#x27;max_depth&#x27;: [2, 4, 3, 6, 10],\n",
       "                                        &#x27;n_estimators&#x27;: [10, 20, 30]},\n",
       "                   random_state=45, scoring=&#x27;precision&#x27;, verbose=5)</pre><b>In a Jupyter environment, please rerun this cell to show the HTML representation or trust the notebook. <br />On GitHub, the HTML representation is unable to render, please try loading this page with nbviewer.org.</b></div><div class=\"sk-container\" hidden><div class=\"sk-item sk-dashed-wrapped\"><div class=\"sk-label-container\"><div class=\"sk-label sk-toggleable\"><input class=\"sk-toggleable__control sk-hidden--visually\" id=\"sk-estimator-id-3\" type=\"checkbox\" ><label for=\"sk-estimator-id-3\" class=\"sk-toggleable__label sk-toggleable__label-arrow\">RandomizedSearchCV</label><div class=\"sk-toggleable__content\"><pre>RandomizedSearchCV(cv=5,\n",
       "                   estimator=XGBClassifier(base_score=None, booster=None,\n",
       "                                           callbacks=None,\n",
       "                                           colsample_bylevel=None,\n",
       "                                           colsample_bynode=None,\n",
       "                                           colsample_bytree=None,\n",
       "                                           early_stopping_rounds=None,\n",
       "                                           enable_categorical=False,\n",
       "                                           eval_metric=None, feature_types=None,\n",
       "                                           gamma=None, gpu_id=None,\n",
       "                                           grow_policy=None,\n",
       "                                           importance_type=None,\n",
       "                                           interaction_constraints=None,\n",
       "                                           learning_rate...\n",
       "                                           max_cat_to_onehot=None,\n",
       "                                           max_delta_step=None, max_depth=None,\n",
       "                                           max_leaves=None,\n",
       "                                           min_child_weight=None, missing=nan,\n",
       "                                           monotone_constraints=None,\n",
       "                                           n_estimators=100, n_jobs=None,\n",
       "                                           num_parallel_tree=None,\n",
       "                                           predictor=None, random_state=None, ...),\n",
       "                   n_jobs=-1,\n",
       "                   param_distributions={&#x27;max_depth&#x27;: [2, 4, 3, 6, 10],\n",
       "                                        &#x27;n_estimators&#x27;: [10, 20, 30]},\n",
       "                   random_state=45, scoring=&#x27;precision&#x27;, verbose=5)</pre></div></div></div><div class=\"sk-parallel\"><div class=\"sk-parallel-item\"><div class=\"sk-item\"><div class=\"sk-label-container\"><div class=\"sk-label sk-toggleable\"><input class=\"sk-toggleable__control sk-hidden--visually\" id=\"sk-estimator-id-4\" type=\"checkbox\" ><label for=\"sk-estimator-id-4\" class=\"sk-toggleable__label sk-toggleable__label-arrow\">estimator: XGBClassifier</label><div class=\"sk-toggleable__content\"><pre>XGBClassifier(base_score=None, booster=None, callbacks=None,\n",
       "              colsample_bylevel=None, colsample_bynode=None,\n",
       "              colsample_bytree=None, early_stopping_rounds=None,\n",
       "              enable_categorical=False, eval_metric=None, feature_types=None,\n",
       "              gamma=None, gpu_id=None, grow_policy=None, importance_type=None,\n",
       "              interaction_constraints=None, learning_rate=None, max_bin=None,\n",
       "              max_cat_threshold=None, max_cat_to_onehot=None,\n",
       "              max_delta_step=None, max_depth=None, max_leaves=None,\n",
       "              min_child_weight=None, missing=nan, monotone_constraints=None,\n",
       "              n_estimators=100, n_jobs=None, num_parallel_tree=None,\n",
       "              predictor=None, random_state=None, ...)</pre></div></div></div><div class=\"sk-serial\"><div class=\"sk-item\"><div class=\"sk-estimator sk-toggleable\"><input class=\"sk-toggleable__control sk-hidden--visually\" id=\"sk-estimator-id-5\" type=\"checkbox\" ><label for=\"sk-estimator-id-5\" class=\"sk-toggleable__label sk-toggleable__label-arrow\">XGBClassifier</label><div class=\"sk-toggleable__content\"><pre>XGBClassifier(base_score=None, booster=None, callbacks=None,\n",
       "              colsample_bylevel=None, colsample_bynode=None,\n",
       "              colsample_bytree=None, early_stopping_rounds=None,\n",
       "              enable_categorical=False, eval_metric=None, feature_types=None,\n",
       "              gamma=None, gpu_id=None, grow_policy=None, importance_type=None,\n",
       "              interaction_constraints=None, learning_rate=None, max_bin=None,\n",
       "              max_cat_threshold=None, max_cat_to_onehot=None,\n",
       "              max_delta_step=None, max_depth=None, max_leaves=None,\n",
       "              min_child_weight=None, missing=nan, monotone_constraints=None,\n",
       "              n_estimators=100, n_jobs=None, num_parallel_tree=None,\n",
       "              predictor=None, random_state=None, ...)</pre></div></div></div></div></div></div></div></div></div></div>"
      ],
      "text/plain": [
       "RandomizedSearchCV(cv=5,\n",
       "                   estimator=XGBClassifier(base_score=None, booster=None,\n",
       "                                           callbacks=None,\n",
       "                                           colsample_bylevel=None,\n",
       "                                           colsample_bynode=None,\n",
       "                                           colsample_bytree=None,\n",
       "                                           early_stopping_rounds=None,\n",
       "                                           enable_categorical=False,\n",
       "                                           eval_metric=None, feature_types=None,\n",
       "                                           gamma=None, gpu_id=None,\n",
       "                                           grow_policy=None,\n",
       "                                           importance_type=None,\n",
       "                                           interaction_constraints=None,\n",
       "                                           learning_rate...\n",
       "                                           max_cat_to_onehot=None,\n",
       "                                           max_delta_step=None, max_depth=None,\n",
       "                                           max_leaves=None,\n",
       "                                           min_child_weight=None, missing=nan,\n",
       "                                           monotone_constraints=None,\n",
       "                                           n_estimators=100, n_jobs=None,\n",
       "                                           num_parallel_tree=None,\n",
       "                                           predictor=None, random_state=None, ...),\n",
       "                   n_jobs=-1,\n",
       "                   param_distributions={'max_depth': [2, 4, 3, 6, 10],\n",
       "                                        'n_estimators': [10, 20, 30]},\n",
       "                   random_state=45, scoring='precision', verbose=5)"
      ]
     },
     "execution_count": 18,
     "metadata": {},
     "output_type": "execute_result"
    }
   ],
   "source": [
    "# I will do a first round of randomized search to get better parameters\n",
    "\n",
    "param_grid = {'max_depth': [2,4,3,6,10],\n",
    "              'n_estimators': [10,20,30],\n",
    "            }\n",
    "\n",
    "# instantiate the search\n",
    "rs = RandomizedSearchCV(XGBClassifier(), param_grid, scoring='precision',\n",
    "                        cv = 5, verbose=5, n_jobs=-1, n_iter=10, random_state=RSEED)\n",
    "\n",
    "rs.fit(X_train_preprocessed, y_train)"
   ]
  },
  {
   "cell_type": "code",
   "execution_count": 19,
   "metadata": {},
   "outputs": [
    {
     "name": "stdout",
     "output_type": "stream",
     "text": [
      "Best score: 0.652\n",
      "Best parameters:  {'n_estimators': 20, 'max_depth': 2}\n"
     ]
    }
   ],
   "source": [
    "# getting the best score\n",
    "print('Best score:', round(rs.best_score_, 3))\n",
    "\n",
    "# getting the best parameters\n",
    "print('Best parameters: ', rs.best_params_)"
   ]
  },
  {
   "cell_type": "code",
   "execution_count": 20,
   "metadata": {},
   "outputs": [
    {
     "name": "stdout",
     "output_type": "stream",
     "text": [
      "Extreme Gradient Boosting (XGBClassifier)\n",
      "=======================\n",
      "max_depth: 2\n",
      "n_estimators: 20\n",
      "Test precision: 0.681514\n"
     ]
    }
   ],
   "source": [
    "# assingning the best fitted parameters\n",
    "xgb_best = rs.best_estimator_\n",
    "\n",
    "y_pred_test_rs = xgb_best.predict(X_test_preprocessed)\n",
    "\n",
    "print('Extreme Gradient Boosting (XGBClassifier)')\n",
    "print('=======================')\n",
    "print('max_depth: {}'.format(xgb_best.max_depth))\n",
    "print('n_estimators: {}'.format(xgb_best.n_estimators))\n",
    "\n",
    "rxgb_precision = precision_score(y_test, y_pred_test_rs)\n",
    "print('Test precision: {:2f}'.format(rxgb_precision))"
   ]
  },
  {
   "cell_type": "code",
   "execution_count": 21,
   "metadata": {},
   "outputs": [
    {
     "data": {
      "text/plain": [
       "<Axes: xlabel='Predicted', ylabel='Actual'>"
      ]
     },
     "execution_count": 21,
     "metadata": {},
     "output_type": "execute_result"
    },
    {
     "data": {
      "image/png": "[encoded data removed]",
      "text/plain": [
       "<Figure size 640x480 with 2 Axes>"
      ]
     },
     "metadata": {},
     "output_type": "display_data"
    }
   ],
   "source": [
    "# Confusion matrix using pandas crosstab\n",
    "conf_matrix= pd.crosstab(y_test, y_pred_test_rs, rownames=['Actual'], colnames=['Predicted'])\n",
    "sns.heatmap(conf_matrix, annot=True)"
   ]
  },
  {
   "cell_type": "markdown",
   "metadata": {},
   "source": [
    "## Interpretation\n",
    "\n",
    "This model is again worse, because the false negatives got more and the true positives less."
   ]
  },
  {
   "cell_type": "markdown",
   "metadata": {},
   "source": [
    "## Ideas for more hyperparameters to tweak\n",
    "- lambda, makes the model more conservative (L2 regularisation to decrease overfitting, use 0,1,3,5, default: 1)\n",
    "- tree_method, tree construction algorithm (use auto, exact, approx, hist, default: auto)\n",
    "- subsample, randomly subsample training data prior to growing trees (use 0, 0.5, 1, default: 1)\n",
    "- booster, decide which booster to use (use gbtree, gblinear, dart, default: gbtree)\n"
   ]
  },
  {
   "cell_type": "code",
   "execution_count": 22,
   "metadata": {},
   "outputs": [
    {
     "name": "stdout",
     "output_type": "stream",
     "text": [
      "Fitting 5 folds for each of 10 candidates, totalling 50 fits\n",
      "[CV 5/5] END booster=gbtree, max_depth=1, n_estimators=20, subsample=0.3, tree_method=auto;, score=0.627 total time=  42.0s\n",
      "[CV 3/5] END booster=gbtree, max_depth=1, n_estimators=20, subsample=0.3, tree_method=exact;, score=0.641 total time=  42.4s\n",
      "[CV 2/5] END booster=gbtree, max_depth=1, n_estimators=20, subsample=0.3, tree_method=exact;, score=0.642 total time=  42.4s\n",
      "[CV 1/5] END booster=gbtree, max_depth=1, n_estimators=20, subsample=0.3, tree_method=auto;, score=0.650 total time=  42.5s\n",
      "[CV 3/5] END booster=gbtree, max_depth=1, n_estimators=20, subsample=0.3, tree_method=auto;, score=0.641 total time=  42.6s\n",
      "[CV 1/5] END booster=gbtree, max_depth=1, n_estimators=20, subsample=0.3, tree_method=exact;, score=0.650 total time=  42.6s\n",
      "[CV 4/5] END booster=gbtree, max_depth=1, n_estimators=20, subsample=0.3, tree_method=auto;, score=0.653 total time=  42.7s\n",
      "[CV 2/5] END booster=gbtree, max_depth=1, n_estimators=20, subsample=0.3, tree_method=auto;, score=0.642 total time=  42.8s\n",
      "[23:06:06] WARNING: /Users/runner/work/xgboost/xgboost/python-package/build/temp.macosx-11.0-arm64-cpython-38/xgboost/src/learner.cc:767: \n",
      "Parameters: { \"max_depth\", \"subsample\", \"tree_method\" } are not used.\n",
      "\n",
      "[23:06:06] WARNING: /Users/runner/work/xgboost/xgboost/python-package/build/temp.macosx-11.0-arm64-cpython-38/xgboost/src/learner.cc:767: \n",
      "Parameters: { \"max_depth\", \"subsample\", \"tree_method\" } are not used.\n",
      "\n",
      "[23:06:06] WARNING: /Users/runner/work/xgboost/xgboost/python-package/build/temp.macosx-11.0-arm64-cpython-38/xgboost/src/learner.cc:767: \n",
      "Parameters: { \"max_depth\", \"subsample\", \"tree_method\" } are not used.\n",
      "\n",
      "[23:06:07] WARNING: /Users/runner/work/xgboost/xgboost/python-package/build/temp.macosx-11.0-arm64-cpython-38/xgboost/src/learner.cc:767: \n",
      "Parameters: { \"max_depth\", \"subsample\", \"tree_method\" } are not used.\n",
      "\n",
      "[23:06:07] WARNING: /Users/runner/work/xgboost/xgboost/python-package/build/temp.macosx-11.0-arm64-cpython-38/xgboost/src/learner.cc:767: \n",
      "Parameters: { \"max_depth\", \"subsample\", \"tree_method\" } are not used.\n",
      "\n",
      "[CV 1/5] END booster=gblinear, max_depth=2, n_estimators=20, subsample=0.7, tree_method=approx;, score=0.618 total time=  40.0s\n",
      "[CV 2/5] END booster=gblinear, max_depth=2, n_estimators=20, subsample=0.7, tree_method=approx;, score=0.620 total time=  40.7s\n",
      "[CV 3/5] END booster=gblinear, max_depth=2, n_estimators=20, subsample=0.7, tree_method=approx;, score=0.614 total time=  40.7s\n",
      "[CV 4/5] END booster=gblinear, max_depth=2, n_estimators=20, subsample=0.7, tree_method=approx;, score=0.620 total time=  40.8s\n",
      "[CV 5/5] END booster=gblinear, max_depth=2, n_estimators=20, subsample=0.7, tree_method=approx;, score=0.616 total time=  40.9s\n",
      "[CV 4/5] END booster=gbtree, max_depth=1, n_estimators=20, subsample=0.3, tree_method=exact;, score=0.653 total time=  48.4s\n",
      "[CV 5/5] END booster=gbtree, max_depth=1, n_estimators=20, subsample=0.3, tree_method=exact;, score=0.627 total time=  49.1s\n",
      "[CV 1/5] END booster=dart, max_depth=2, n_estimators=20, subsample=0.3, tree_method=approx;, score=0.652 total time= 2.1min\n",
      "[CV 2/5] END booster=dart, max_depth=2, n_estimators=20, subsample=0.3, tree_method=approx;, score=0.657 total time= 1.7min\n",
      "[CV 4/5] END booster=dart, max_depth=2, n_estimators=20, subsample=0.3, tree_method=approx;, score=0.654 total time= 1.8min\n",
      "[CV 3/5] END booster=dart, max_depth=2, n_estimators=20, subsample=0.3, tree_method=approx;, score=0.654 total time= 1.8min\n",
      "[CV 5/5] END booster=dart, max_depth=2, n_estimators=20, subsample=0.3, tree_method=approx;, score=0.655 total time= 1.8min\n",
      "[23:08:30] WARNING: /Users/runner/work/xgboost/xgboost/python-package/build/temp.macosx-11.0-arm64-cpython-38/xgboost/src/learner.cc:767: \n",
      "Parameters: { \"max_depth\", \"subsample\", \"tree_method\" } are not used.\n",
      "\n",
      "[23:08:31] WARNING: /Users/runner/work/xgboost/xgboost/python-package/build/temp.macosx-11.0-arm64-cpython-38/xgboost/src/learner.cc:767: \n",
      "Parameters: { \"max_depth\", \"subsample\", \"tree_method\" } are not used.\n",
      "\n",
      "[23:08:31] WARNING: /Users/runner/work/xgboost/xgboost/python-package/build/temp.macosx-11.0-arm64-cpython-38/xgboost/src/learner.cc:767: \n",
      "Parameters: { \"max_depth\", \"subsample\", \"tree_method\" } are not used.\n",
      "\n",
      "[CV 2/5] END booster=gblinear, max_depth=2, n_estimators=20, subsample=0.3, tree_method=approx;, score=0.620 total time=  13.8s\n",
      "[CV 1/5] END booster=gblinear, max_depth=2, n_estimators=20, subsample=0.3, tree_method=approx;, score=0.618 total time=  14.6s\n",
      "[CV 3/5] END booster=gblinear, max_depth=2, n_estimators=20, subsample=0.3, tree_method=approx;, score=0.614 total time=  14.2s\n",
      "[23:08:44] WARNING: /Users/runner/work/xgboost/xgboost/python-package/build/temp.macosx-11.0-arm64-cpython-38/xgboost/src/learner.cc:767: \n",
      "Parameters: { \"max_depth\", \"subsample\", \"tree_method\" } are not used.\n",
      "\n",
      "[23:08:45] WARNING: /Users/runner/work/xgboost/xgboost/python-package/build/temp.macosx-11.0-arm64-cpython-38/xgboost/src/learner.cc:767: \n",
      "Parameters: { \"max_depth\", \"subsample\", \"tree_method\" } are not used.\n",
      "\n",
      "[CV 4/5] END booster=gblinear, max_depth=2, n_estimators=20, subsample=0.3, tree_method=approx;, score=0.620 total time=  11.1s\n",
      "[CV 5/5] END booster=gblinear, max_depth=2, n_estimators=20, subsample=0.3, tree_method=approx;, score=0.616 total time=  10.9s\n",
      "[CV 1/5] END booster=dart, max_depth=1, n_estimators=20, subsample=0.3, tree_method=hist;, score=0.638 total time= 6.0min\n",
      "[CV 2/5] END booster=dart, max_depth=1, n_estimators=20, subsample=0.3, tree_method=hist;, score=0.638 total time= 6.0min\n",
      "[CV 3/5] END booster=dart, max_depth=1, n_estimators=20, subsample=0.3, tree_method=hist;, score=0.638 total time= 6.0min\n",
      "[CV 4/5] END booster=dart, max_depth=1, n_estimators=20, subsample=0.3, tree_method=hist;, score=0.666 total time= 5.8min\n",
      "[CV 1/5] END booster=dart, max_depth=2, n_estimators=20, subsample=0.7, tree_method=exact;, score=0.636 total time= 1.2min\n",
      "[CV 5/5] END booster=dart, max_depth=1, n_estimators=20, subsample=0.3, tree_method=hist;, score=0.669 total time= 5.7min\n",
      "[CV 1/5] END booster=dart, max_depth=2, n_estimators=20, subsample=1, tree_method=hist;, score=0.649 total time= 5.8min\n",
      "[CV 2/5] END booster=dart, max_depth=2, n_estimators=20, subsample=1, tree_method=hist;, score=0.653 total time= 5.8min\n",
      "[CV 3/5] END booster=dart, max_depth=2, n_estimators=20, subsample=1, tree_method=hist;, score=0.655 total time= 5.8min\n",
      "[CV 2/5] END booster=gbtree, max_depth=1, n_estimators=20, subsample=0.3, tree_method=approx;, score=0.649 total time= 1.3min\n",
      "[CV 1/5] END booster=gbtree, max_depth=1, n_estimators=20, subsample=0.3, tree_method=approx;, score=0.646 total time= 1.3min\n",
      "[CV 2/5] END booster=dart, max_depth=2, n_estimators=20, subsample=0.7, tree_method=exact;, score=0.656 total time= 2.2min\n",
      "[CV 3/5] END booster=dart, max_depth=2, n_estimators=20, subsample=0.7, tree_method=exact;, score=0.653 total time= 2.5min\n",
      "[23:16:35] WARNING: /Users/runner/work/xgboost/xgboost/python-package/build/temp.macosx-11.0-arm64-cpython-38/xgboost/src/learner.cc:767: \n",
      "Parameters: { \"max_depth\", \"subsample\", \"tree_method\" } are not used.\n",
      "\n",
      "[CV 4/5] END booster=dart, max_depth=2, n_estimators=20, subsample=0.7, tree_method=exact;, score=0.663 total time= 2.6min\n",
      "[23:16:50] WARNING: /Users/runner/work/xgboost/xgboost/python-package/build/temp.macosx-11.0-arm64-cpython-38/xgboost/src/learner.cc:767: \n",
      "Parameters: { \"max_depth\", \"subsample\", \"tree_method\" } are not used.\n",
      "\n",
      "[CV 1/5] END booster=gblinear, max_depth=1, n_estimators=20, subsample=0.5, tree_method=approx;, score=0.618 total time=  41.2s\n",
      "[23:17:15] WARNING: /Users/runner/work/xgboost/xgboost/python-package/build/temp.macosx-11.0-arm64-cpython-38/xgboost/src/learner.cc:767: \n",
      "Parameters: { \"max_depth\", \"subsample\", \"tree_method\" } are not used.\n",
      "\n",
      "[CV 5/5] END booster=dart, max_depth=2, n_estimators=20, subsample=0.7, tree_method=exact;, score=0.652 total time= 2.9min\n",
      "[CV 2/5] END booster=gblinear, max_depth=1, n_estimators=20, subsample=0.5, tree_method=approx;, score=0.620 total time=  40.7s\n",
      "[CV 3/5] END booster=gbtree, max_depth=1, n_estimators=20, subsample=0.3, tree_method=approx;, score=0.670 total time= 1.4min\n",
      "[CV 4/5] END booster=gbtree, max_depth=1, n_estimators=20, subsample=0.3, tree_method=approx;, score=0.663 total time= 1.4min\n",
      "[23:17:27] WARNING: /Users/runner/work/xgboost/xgboost/python-package/build/temp.macosx-11.0-arm64-cpython-38/xgboost/src/learner.cc:767: \n",
      "Parameters: { \"max_depth\", \"subsample\", \"tree_method\" } are not used.\n",
      "\n",
      "[CV 5/5] END booster=gbtree, max_depth=1, n_estimators=20, subsample=0.3, tree_method=approx;, score=0.627 total time= 1.4min\n",
      "[23:17:28] WARNING: /Users/runner/work/xgboost/xgboost/python-package/build/temp.macosx-11.0-arm64-cpython-38/xgboost/src/learner.cc:767: \n",
      "Parameters: { \"max_depth\", \"subsample\", \"tree_method\" } are not used.\n",
      "\n",
      "[CV 3/5] END booster=gblinear, max_depth=1, n_estimators=20, subsample=0.5, tree_method=approx;, score=0.614 total time=  21.2s\n",
      "[CV 4/5] END booster=gblinear, max_depth=1, n_estimators=20, subsample=0.5, tree_method=approx;, score=0.620 total time=  11.8s\n",
      "[CV 5/5] END booster=gblinear, max_depth=1, n_estimators=20, subsample=0.5, tree_method=approx;, score=0.616 total time=  10.6s\n",
      "[CV 4/5] END booster=dart, max_depth=2, n_estimators=20, subsample=1, tree_method=hist;, score=0.654 total time= 5.7min\n",
      "[CV 5/5] END booster=dart, max_depth=2, n_estimators=20, subsample=1, tree_method=hist;, score=0.652 total time= 5.7min\n"
     ]
    },
    {
     "data": {
      "text/html": [
       "<style>#sk-container-id-4 {color: black;background-color: white;}#sk-container-id-4 pre{padding: 0;}#sk-container-id-4 div.sk-toggleable {background-color: white;}#sk-container-id-4 label.sk-toggleable__label {cursor: pointer;display: block;width: 100%;margin-bottom: 0;padding: 0.3em;box-sizing: border-box;text-align: center;}#sk-container-id-4 label.sk-toggleable__label-arrow:before {content: \"▸\";float: left;margin-right: 0.25em;color: #696969;}#sk-container-id-4 label.sk-toggleable__label-arrow:hover:before {color: black;}#sk-container-id-4 div.sk-estimator:hover label.sk-toggleable__label-arrow:before {color: black;}#sk-container-id-4 div.sk-toggleable__content {max-height: 0;max-width: 0;overflow: hidden;text-align: left;background-color: #f0f8ff;}#sk-container-id-4 div.sk-toggleable__content pre {margin: 0.2em;color: black;border-radius: 0.25em;background-color: #f0f8ff;}#sk-container-id-4 input.sk-toggleable__control:checked~div.sk-toggleable__content {max-height: 200px;max-width: 100%;overflow: auto;}#sk-container-id-4 input.sk-toggleable__control:checked~label.sk-toggleable__label-arrow:before {content: \"▾\";}#sk-container-id-4 div.sk-estimator input.sk-toggleable__control:checked~label.sk-toggleable__label {background-color: #d4ebff;}#sk-container-id-4 div.sk-label input.sk-toggleable__control:checked~label.sk-toggleable__label {background-color: #d4ebff;}#sk-container-id-4 input.sk-hidden--visually {border: 0;clip: rect(1px 1px 1px 1px);clip: rect(1px, 1px, 1px, 1px);height: 1px;margin: -1px;overflow: hidden;padding: 0;position: absolute;width: 1px;}#sk-container-id-4 div.sk-estimator {font-family: monospace;background-color: #f0f8ff;border: 1px dotted black;border-radius: 0.25em;box-sizing: border-box;margin-bottom: 0.5em;}#sk-container-id-4 div.sk-estimator:hover {background-color: #d4ebff;}#sk-container-id-4 div.sk-parallel-item::after {content: \"\";width: 100%;border-bottom: 1px solid gray;flex-grow: 1;}#sk-container-id-4 div.sk-label:hover label.sk-toggleable__label {background-color: #d4ebff;}#sk-container-id-4 div.sk-serial::before {content: \"\";position: absolute;border-left: 1px solid gray;box-sizing: border-box;top: 0;bottom: 0;left: 50%;z-index: 0;}#sk-container-id-4 div.sk-serial {display: flex;flex-direction: column;align-items: center;background-color: white;padding-right: 0.2em;padding-left: 0.2em;position: relative;}#sk-container-id-4 div.sk-item {position: relative;z-index: 1;}#sk-container-id-4 div.sk-parallel {display: flex;align-items: stretch;justify-content: center;background-color: white;position: relative;}#sk-container-id-4 div.sk-item::before, #sk-container-id-4 div.sk-parallel-item::before {content: \"\";position: absolute;border-left: 1px solid gray;box-sizing: border-box;top: 0;bottom: 0;left: 50%;z-index: -1;}#sk-container-id-4 div.sk-parallel-item {display: flex;flex-direction: column;z-index: 1;position: relative;background-color: white;}#sk-container-id-4 div.sk-parallel-item:first-child::after {align-self: flex-end;width: 50%;}#sk-container-id-4 div.sk-parallel-item:last-child::after {align-self: flex-start;width: 50%;}#sk-container-id-4 div.sk-parallel-item:only-child::after {width: 0;}#sk-container-id-4 div.sk-dashed-wrapped {border: 1px dashed gray;margin: 0 0.4em 0.5em 0.4em;box-sizing: border-box;padding-bottom: 0.4em;background-color: white;}#sk-container-id-4 div.sk-label label {font-family: monospace;font-weight: bold;display: inline-block;line-height: 1.2em;}#sk-container-id-4 div.sk-label-container {text-align: center;}#sk-container-id-4 div.sk-container {/* jupyter's `normalize.less` sets `[hidden] { display: none; }` but bootstrap.min.css set `[hidden] { display: none !important; }` so we also need the `!important` here to be able to override the default hidden behavior on the sphinx rendered scikit-learn.org. See: https://github.com/scikit-learn/scikit-learn/issues/21755 */display: inline-block !important;position: relative;}#sk-container-id-4 div.sk-text-repr-fallback {display: none;}</style><div id=\"sk-container-id-4\" class=\"sk-top-container\"><div class=\"sk-text-repr-fallback\"><pre>RandomizedSearchCV(cv=5,\n",
       "                   estimator=XGBClassifier(base_score=None, booster=None,\n",
       "                                           callbacks=None,\n",
       "                                           colsample_bylevel=None,\n",
       "                                           colsample_bynode=None,\n",
       "                                           colsample_bytree=None,\n",
       "                                           early_stopping_rounds=None,\n",
       "                                           enable_categorical=False,\n",
       "                                           eval_metric=None, feature_types=None,\n",
       "                                           gamma=None, gpu_id=None,\n",
       "                                           grow_policy=None,\n",
       "                                           importance_type=None,\n",
       "                                           interaction_constraints=None,\n",
       "                                           learning_rate...\n",
       "                                           min_child_weight=None, missing=nan,\n",
       "                                           monotone_constraints=None,\n",
       "                                           n_estimators=100, n_jobs=None,\n",
       "                                           num_parallel_tree=None,\n",
       "                                           predictor=None, random_state=None, ...),\n",
       "                   n_jobs=-1,\n",
       "                   param_distributions={&#x27;booster&#x27;: [&#x27;gbtree&#x27;, &#x27;gblinear&#x27;,\n",
       "                                                    &#x27;dart&#x27;],\n",
       "                                        &#x27;max_depth&#x27;: [1, 2],\n",
       "                                        &#x27;n_estimators&#x27;: [20],\n",
       "                                        &#x27;subsample&#x27;: [0.3, 0.5, 0.7, 1],\n",
       "                                        &#x27;tree_method&#x27;: [&#x27;auto&#x27;, &#x27;exact&#x27;,\n",
       "                                                        &#x27;approx&#x27;, &#x27;hist&#x27;]},\n",
       "                   random_state=45, scoring=&#x27;precision&#x27;, verbose=5)</pre><b>In a Jupyter environment, please rerun this cell to show the HTML representation or trust the notebook. <br />On GitHub, the HTML representation is unable to render, please try loading this page with nbviewer.org.</b></div><div class=\"sk-container\" hidden><div class=\"sk-item sk-dashed-wrapped\"><div class=\"sk-label-container\"><div class=\"sk-label sk-toggleable\"><input class=\"sk-toggleable__control sk-hidden--visually\" id=\"sk-estimator-id-6\" type=\"checkbox\" ><label for=\"sk-estimator-id-6\" class=\"sk-toggleable__label sk-toggleable__label-arrow\">RandomizedSearchCV</label><div class=\"sk-toggleable__content\"><pre>RandomizedSearchCV(cv=5,\n",
       "                   estimator=XGBClassifier(base_score=None, booster=None,\n",
       "                                           callbacks=None,\n",
       "                                           colsample_bylevel=None,\n",
       "                                           colsample_bynode=None,\n",
       "                                           colsample_bytree=None,\n",
       "                                           early_stopping_rounds=None,\n",
       "                                           enable_categorical=False,\n",
       "                                           eval_metric=None, feature_types=None,\n",
       "                                           gamma=None, gpu_id=None,\n",
       "                                           grow_policy=None,\n",
       "                                           importance_type=None,\n",
       "                                           interaction_constraints=None,\n",
       "                                           learning_rate...\n",
       "                                           min_child_weight=None, missing=nan,\n",
       "                                           monotone_constraints=None,\n",
       "                                           n_estimators=100, n_jobs=None,\n",
       "                                           num_parallel_tree=None,\n",
       "                                           predictor=None, random_state=None, ...),\n",
       "                   n_jobs=-1,\n",
       "                   param_distributions={&#x27;booster&#x27;: [&#x27;gbtree&#x27;, &#x27;gblinear&#x27;,\n",
       "                                                    &#x27;dart&#x27;],\n",
       "                                        &#x27;max_depth&#x27;: [1, 2],\n",
       "                                        &#x27;n_estimators&#x27;: [20],\n",
       "                                        &#x27;subsample&#x27;: [0.3, 0.5, 0.7, 1],\n",
       "                                        &#x27;tree_method&#x27;: [&#x27;auto&#x27;, &#x27;exact&#x27;,\n",
       "                                                        &#x27;approx&#x27;, &#x27;hist&#x27;]},\n",
       "                   random_state=45, scoring=&#x27;precision&#x27;, verbose=5)</pre></div></div></div><div class=\"sk-parallel\"><div class=\"sk-parallel-item\"><div class=\"sk-item\"><div class=\"sk-label-container\"><div class=\"sk-label sk-toggleable\"><input class=\"sk-toggleable__control sk-hidden--visually\" id=\"sk-estimator-id-7\" type=\"checkbox\" ><label for=\"sk-estimator-id-7\" class=\"sk-toggleable__label sk-toggleable__label-arrow\">estimator: XGBClassifier</label><div class=\"sk-toggleable__content\"><pre>XGBClassifier(base_score=None, booster=None, callbacks=None,\n",
       "              colsample_bylevel=None, colsample_bynode=None,\n",
       "              colsample_bytree=None, early_stopping_rounds=None,\n",
       "              enable_categorical=False, eval_metric=None, feature_types=None,\n",
       "              gamma=None, gpu_id=None, grow_policy=None, importance_type=None,\n",
       "              interaction_constraints=None, learning_rate=None, max_bin=None,\n",
       "              max_cat_threshold=None, max_cat_to_onehot=None,\n",
       "              max_delta_step=None, max_depth=None, max_leaves=None,\n",
       "              min_child_weight=None, missing=nan, monotone_constraints=None,\n",
       "              n_estimators=100, n_jobs=None, num_parallel_tree=None,\n",
       "              predictor=None, random_state=None, ...)</pre></div></div></div><div class=\"sk-serial\"><div class=\"sk-item\"><div class=\"sk-estimator sk-toggleable\"><input class=\"sk-toggleable__control sk-hidden--visually\" id=\"sk-estimator-id-8\" type=\"checkbox\" ><label for=\"sk-estimator-id-8\" class=\"sk-toggleable__label sk-toggleable__label-arrow\">XGBClassifier</label><div class=\"sk-toggleable__content\"><pre>XGBClassifier(base_score=None, booster=None, callbacks=None,\n",
       "              colsample_bylevel=None, colsample_bynode=None,\n",
       "              colsample_bytree=None, early_stopping_rounds=None,\n",
       "              enable_categorical=False, eval_metric=None, feature_types=None,\n",
       "              gamma=None, gpu_id=None, grow_policy=None, importance_type=None,\n",
       "              interaction_constraints=None, learning_rate=None, max_bin=None,\n",
       "              max_cat_threshold=None, max_cat_to_onehot=None,\n",
       "              max_delta_step=None, max_depth=None, max_leaves=None,\n",
       "              min_child_weight=None, missing=nan, monotone_constraints=None,\n",
       "              n_estimators=100, n_jobs=None, num_parallel_tree=None,\n",
       "              predictor=None, random_state=None, ...)</pre></div></div></div></div></div></div></div></div></div></div>"
      ],
      "text/plain": [
       "RandomizedSearchCV(cv=5,\n",
       "                   estimator=XGBClassifier(base_score=None, booster=None,\n",
       "                                           callbacks=None,\n",
       "                                           colsample_bylevel=None,\n",
       "                                           colsample_bynode=None,\n",
       "                                           colsample_bytree=None,\n",
       "                                           early_stopping_rounds=None,\n",
       "                                           enable_categorical=False,\n",
       "                                           eval_metric=None, feature_types=None,\n",
       "                                           gamma=None, gpu_id=None,\n",
       "                                           grow_policy=None,\n",
       "                                           importance_type=None,\n",
       "                                           interaction_constraints=None,\n",
       "                                           learning_rate...\n",
       "                                           min_child_weight=None, missing=nan,\n",
       "                                           monotone_constraints=None,\n",
       "                                           n_estimators=100, n_jobs=None,\n",
       "                                           num_parallel_tree=None,\n",
       "                                           predictor=None, random_state=None, ...),\n",
       "                   n_jobs=-1,\n",
       "                   param_distributions={'booster': ['gbtree', 'gblinear',\n",
       "                                                    'dart'],\n",
       "                                        'max_depth': [1, 2],\n",
       "                                        'n_estimators': [20],\n",
       "                                        'subsample': [0.3, 0.5, 0.7, 1],\n",
       "                                        'tree_method': ['auto', 'exact',\n",
       "                                                        'approx', 'hist']},\n",
       "                   random_state=45, scoring='precision', verbose=5)"
      ]
     },
     "execution_count": 22,
     "metadata": {},
     "output_type": "execute_result"
    }
   ],
   "source": [
    "# Second round of randomized search to get better parameters\n",
    "\n",
    "param_grid = {'max_depth': [1,2],\n",
    "              'n_estimators': [20],\n",
    "              'tree_method': ['auto', 'exact', 'approx', 'hist'],\n",
    "              'subsample': [0.3,0.5,0.7,1],\n",
    "              'booster': ['gbtree', 'gblinear', 'dart']\n",
    "            }\n",
    "\n",
    "# instantiate the search\n",
    "rs2 = RandomizedSearchCV(XGBClassifier(), param_grid, scoring='precision',\n",
    "                        cv = 5, verbose=5, n_jobs=-1, n_iter=10, random_state=RSEED)\n",
    "\n",
    "rs2.fit(X_train_preprocessed, y_train)"
   ]
  },
  {
   "cell_type": "code",
   "execution_count": 23,
   "metadata": {},
   "outputs": [
    {
     "name": "stdout",
     "output_type": "stream",
     "text": [
      "Best score: 0.654\n",
      "Best parameters:  {'tree_method': 'approx', 'subsample': 0.3, 'n_estimators': 20, 'max_depth': 2, 'booster': 'dart'}\n"
     ]
    }
   ],
   "source": [
    "# getting the best score\n",
    "print('Best score:', round(rs2.best_score_, 3))\n",
    "\n",
    "# getting the best parameters\n",
    "print('Best parameters: ', rs2.best_params_)"
   ]
  },
  {
   "cell_type": "code",
   "execution_count": 24,
   "metadata": {},
   "outputs": [
    {
     "name": "stdout",
     "output_type": "stream",
     "text": [
      "Extreme Gradient Boosting (XGBClassifier)\n",
      "=======================\n",
      "max_depth: 2\n",
      "n_estimators: 20\n",
      "tree_method: approx\n",
      "subsample: 0.3\n",
      "booster: dart\n",
      "Test precision: 0.673304\n"
     ]
    }
   ],
   "source": [
    "# assingning the best fitted parameters\n",
    "xgb_best2 = rs2.best_estimator_\n",
    "\n",
    "y_pred_test_rs2 = xgb_best2.predict(X_test_preprocessed)\n",
    "\n",
    "print('Extreme Gradient Boosting (XGBClassifier)')\n",
    "print('=======================')\n",
    "print('max_depth: {}'.format(xgb_best2.max_depth))\n",
    "print('n_estimators: {}'.format(xgb_best2.n_estimators))\n",
    "print('tree_method: {}'.format(xgb_best2.tree_method))\n",
    "print('subsample: {}'.format(xgb_best2.subsample))\n",
    "print('booster: {}'.format(xgb_best2.booster))\n",
    "\n",
    "rxgb_precision2 = precision_score(y_test, y_pred_test_rs2)\n",
    "print('Test precision: {:2f}'.format(rxgb_precision2))"
   ]
  },
  {
   "cell_type": "code",
   "execution_count": 25,
   "metadata": {},
   "outputs": [
    {
     "data": {
      "text/plain": [
       "<Axes: xlabel='Predicted', ylabel='Actual'>"
      ]
     },
     "execution_count": 25,
     "metadata": {},
     "output_type": "execute_result"
    },
    {
     "data": {
      "image/png": "[encoded data removed]",
      "text/plain": [
       "<Figure size 640x480 with 2 Axes>"
      ]
     },
     "metadata": {},
     "output_type": "display_data"
    }
   ],
   "source": [
    "# Confusion matrix using pandas crosstab\n",
    "conf_matrix= pd.crosstab(y_test, y_pred_test_rs2, rownames=['Actual'], colnames=['Predicted'])\n",
    "sns.heatmap(conf_matrix, annot=True)"
   ]
  },
  {
   "cell_type": "markdown",
   "metadata": {},
   "source": [
    "## Interpretation\n",
    "\n",
    "Still no improvement"
   ]
  },
  {
   "cell_type": "code",
   "execution_count": 26,
   "metadata": {},
   "outputs": [
    {
     "name": "stdout",
     "output_type": "stream",
     "text": [
      "Fitting 5 folds for each of 10 candidates, totalling 50 fits\n",
      "[23:18:54] WARNING: /Users/runner/work/xgboost/xgboost/python-package/build/temp.macosx-11.0-arm64-cpython-38/xgboost/src/learner.cc:767: \n",
      "Parameters: { \"max_depth\", \"subsample\", \"tree_method\" } are not used.\n",
      "\n",
      "[23:18:54] WARNING: /Users/runner/work/xgboost/xgboost/python-package/build/temp.macosx-11.0-arm64-cpython-38/xgboost/src/learner.cc:767: \n",
      "Parameters: { \"max_depth\", \"subsample\", \"tree_method\" } are not used.\n",
      "\n",
      "[CV 5/5] END booster=gblinear, max_depth=10, n_estimators=20, subsample=0.5, tree_method=hist;, score=nan total time=   8.8s\n",
      "[23:18:54] WARNING: /Users/runner/work/xgboost/xgboost/python-package/build/temp.macosx-11.0-arm64-cpython-38/xgboost/src/learner.cc:767: \n",
      "Parameters: { \"max_depth\", \"subsample\", \"tree_method\" } are not used.\n",
      "\n",
      "[CV 2/5] END booster=gblinear, max_depth=10, n_estimators=20, subsample=0.5, tree_method=hist;, score=nan total time=   8.8s\n",
      "[23:18:54] WARNING: /Users/runner/work/xgboost/xgboost/python-package/build/temp.macosx-11.0-arm64-cpython-38/xgboost/src/learner.cc:767: \n",
      "Parameters: { \"max_depth\", \"subsample\", \"tree_method\" } are not used.\n",
      "\n",
      "[CV 4/5] END booster=gblinear, max_depth=10, n_estimators=20, subsample=0.5, tree_method=hist;, score=nan total time=   8.8s\n",
      "[CV 3/5] END booster=gblinear, max_depth=10, n_estimators=20, subsample=0.5, tree_method=hist;, score=nan total time=   8.9s\n",
      "[23:18:54] WARNING: /Users/runner/work/xgboost/xgboost/python-package/build/temp.macosx-11.0-arm64-cpython-38/xgboost/src/learner.cc:767: \n",
      "Parameters: { \"max_depth\", \"subsample\", \"tree_method\" } are not used.\n",
      "\n",
      "[CV 1/5] END booster=gblinear, max_depth=10, n_estimators=20, subsample=0.5, tree_method=hist;, score=nan total time=   9.0s\n",
      "[23:18:58] WARNING: /Users/runner/work/xgboost/xgboost/python-package/build/temp.macosx-11.0-arm64-cpython-38/xgboost/src/learner.cc:767: \n",
      "Parameters: { \"max_depth\", \"subsample\", \"tree_method\" } are not used.\n",
      "\n",
      "[23:18:58] WARNING: /Users/runner/work/xgboost/xgboost/python-package/build/temp.macosx-11.0-arm64-cpython-38/xgboost/src/learner.cc:767: \n",
      "Parameters: { \"max_depth\", \"subsample\", \"tree_method\" } are not used.\n",
      "\n",
      "[23:18:58] WARNING: /Users/runner/work/xgboost/xgboost/python-package/build/temp.macosx-11.0-arm64-cpython-38/xgboost/src/learner.cc:767: \n",
      "Parameters: { \"max_depth\", \"subsample\", \"tree_method\" } are not used.\n",
      "\n",
      "[CV 1/5] END booster=gblinear, max_depth=10, n_estimators=30, subsample=0.7, tree_method=approx;, score=0.533 total time= 1.1min\n",
      "[CV 2/5] END booster=gblinear, max_depth=10, n_estimators=30, subsample=0.7, tree_method=approx;, score=0.527 total time= 1.1min\n",
      "[CV 3/5] END booster=gblinear, max_depth=10, n_estimators=30, subsample=0.7, tree_method=approx;, score=0.530 total time= 1.1min\n",
      "[23:20:04] WARNING: /Users/runner/work/xgboost/xgboost/python-package/build/temp.macosx-11.0-arm64-cpython-38/xgboost/src/learner.cc:767: \n",
      "Parameters: { \"max_depth\", \"subsample\", \"tree_method\" } are not used.\n",
      "\n",
      "[23:20:04] WARNING: /Users/runner/work/xgboost/xgboost/python-package/build/temp.macosx-11.0-arm64-cpython-38/xgboost/src/learner.cc:767: \n",
      "Parameters: { \"max_depth\", \"subsample\", \"tree_method\" } are not used.\n",
      "\n",
      "[CV 2/5] END booster=dart, max_depth=6, n_estimators=10, subsample=0.7, tree_method=approx;, score=0.518 total time= 1.4min\n",
      "[CV 1/5] END booster=gbtree, max_depth=3, n_estimators=10, subsample=0.3, tree_method=hist;, score=0.469 total time=  14.2s\n",
      "[CV 1/5] END booster=dart, max_depth=6, n_estimators=10, subsample=0.7, tree_method=approx;, score=0.517 total time= 1.6min\n",
      "[CV 3/5] END booster=dart, max_depth=6, n_estimators=10, subsample=0.7, tree_method=approx;, score=0.515 total time= 1.6min\n",
      "[CV 2/5] END booster=gbtree, max_depth=3, n_estimators=10, subsample=0.3, tree_method=hist;, score=0.457 total time=  15.7s\n",
      "[CV 3/5] END booster=gbtree, max_depth=3, n_estimators=10, subsample=0.3, tree_method=hist;, score=0.482 total time=  16.2s\n",
      "[CV 5/5] END booster=dart, max_depth=6, n_estimators=10, subsample=0.7, tree_method=approx;, score=0.522 total time= 1.7min\n",
      "[CV 4/5] END booster=dart, max_depth=6, n_estimators=10, subsample=0.7, tree_method=approx;, score=0.525 total time= 1.7min\n",
      "[CV 4/5] END booster=gbtree, max_depth=3, n_estimators=10, subsample=0.3, tree_method=hist;, score=0.481 total time=  14.6s\n",
      "[CV 5/5] END booster=gbtree, max_depth=3, n_estimators=10, subsample=0.3, tree_method=hist;, score=0.475 total time=  14.3s\n",
      "[CV 4/5] END booster=gblinear, max_depth=10, n_estimators=30, subsample=0.7, tree_method=approx;, score=0.531 total time= 1.3min\n",
      "[CV 5/5] END booster=gblinear, max_depth=10, n_estimators=30, subsample=0.7, tree_method=approx;, score=0.533 total time= 1.3min\n",
      "[CV 1/5] END booster=dart, max_depth=6, n_estimators=10, subsample=1, tree_method=hist;, score=0.523 total time= 2.4min\n",
      "[CV 2/5] END booster=dart, max_depth=6, n_estimators=10, subsample=1, tree_method=hist;, score=0.530 total time= 2.5min\n",
      "[CV 3/5] END booster=dart, max_depth=6, n_estimators=10, subsample=1, tree_method=hist;, score=0.526 total time= 2.5min\n",
      "[CV 1/5] END booster=gbtree, max_depth=3, n_estimators=10, subsample=0.3, tree_method=auto;, score=0.481 total time=  51.4s\n",
      "[CV 4/5] END booster=dart, max_depth=6, n_estimators=10, subsample=1, tree_method=hist;, score=0.531 total time= 2.2min\n",
      "[CV 2/5] END booster=gbtree, max_depth=3, n_estimators=10, subsample=0.3, tree_method=auto;, score=0.471 total time= 1.1min\n",
      "[CV 1/5] END booster=dart, max_depth=1, n_estimators=30, subsample=0.3, tree_method=exact;, score=0.425 total time= 5.4min\n",
      "[CV 2/5] END booster=dart, max_depth=1, n_estimators=30, subsample=0.3, tree_method=exact;, score=0.434 total time= 5.4min\n",
      "[CV 3/5] END booster=dart, max_depth=1, n_estimators=30, subsample=0.3, tree_method=exact;, score=0.435 total time= 5.3min\n",
      "[CV 4/5] END booster=dart, max_depth=1, n_estimators=30, subsample=0.3, tree_method=exact;, score=0.442 total time= 5.3min\n",
      "[CV 5/5] END booster=dart, max_depth=1, n_estimators=30, subsample=0.3, tree_method=exact;, score=0.426 total time= 5.3min\n",
      "[CV 5/5] END booster=dart, max_depth=6, n_estimators=10, subsample=1, tree_method=hist;, score=0.518 total time= 2.3min\n",
      "[CV 3/5] END booster=gbtree, max_depth=3, n_estimators=10, subsample=0.3, tree_method=auto;, score=0.472 total time=  54.0s\n",
      "[CV 4/5] END booster=gbtree, max_depth=3, n_estimators=10, subsample=0.3, tree_method=auto;, score=0.442 total time=  52.5s\n",
      "[CV 5/5] END booster=gbtree, max_depth=3, n_estimators=10, subsample=0.3, tree_method=auto;, score=0.459 total time= 1.0min\n",
      "[CV 1/5] END booster=gbtree, max_depth=1, n_estimators=30, subsample=0.3, tree_method=exact;, score=0.435 total time= 1.3min\n",
      "[CV 2/5] END booster=gbtree, max_depth=1, n_estimators=30, subsample=0.3, tree_method=exact;, score=0.444 total time= 1.3min\n",
      "[CV 3/5] END booster=gbtree, max_depth=1, n_estimators=30, subsample=0.3, tree_method=exact;, score=0.435 total time= 1.3min\n",
      "[CV 4/5] END booster=gbtree, max_depth=1, n_estimators=30, subsample=0.3, tree_method=exact;, score=0.410 total time= 1.2min\n",
      "[CV 5/5] END booster=gbtree, max_depth=1, n_estimators=30, subsample=0.3, tree_method=exact;, score=0.450 total time= 1.3min\n",
      "[CV 1/5] END booster=gbtree, max_depth=6, n_estimators=10, subsample=1, tree_method=auto;, score=0.526 total time= 1.7min\n",
      "[CV 2/5] END booster=gbtree, max_depth=6, n_estimators=10, subsample=1, tree_method=auto;, score=0.523 total time= 1.9min\n",
      "[CV 3/5] END booster=gbtree, max_depth=6, n_estimators=10, subsample=1, tree_method=auto;, score=0.526 total time= 1.9min\n",
      "[CV 4/5] END booster=gbtree, max_depth=6, n_estimators=10, subsample=1, tree_method=auto;, score=0.530 total time= 1.9min\n",
      "[CV 5/5] END booster=gbtree, max_depth=6, n_estimators=10, subsample=1, tree_method=auto;, score=0.510 total time= 1.6min\n",
      "[CV 1/5] END booster=gbtree, max_depth=10, n_estimators=30, subsample=0.3, tree_method=auto;, score=0.573 total time= 7.0min\n",
      "[CV 2/5] END booster=gbtree, max_depth=10, n_estimators=30, subsample=0.3, tree_method=auto;, score=0.575 total time= 7.0min\n",
      "[CV 4/5] END booster=gbtree, max_depth=10, n_estimators=30, subsample=0.3, tree_method=auto;, score=0.578 total time= 7.0min\n",
      "[CV 3/5] END booster=gbtree, max_depth=10, n_estimators=30, subsample=0.3, tree_method=auto;, score=0.576 total time= 7.0min\n",
      "[CV 5/5] END booster=gbtree, max_depth=10, n_estimators=30, subsample=0.3, tree_method=auto;, score=0.574 total time= 7.0min\n"
     ]
    },
    {
     "name": "stderr",
     "output_type": "stream",
     "text": [
      "/Users/mimmo/Desktop/neuefische/ML_project/.venv/lib/python3.11/site-packages/sklearn/model_selection/_validation.py:378: FitFailedWarning: \n",
      "5 fits failed out of a total of 50.\n",
      "The score on these train-test partitions for these parameters will be set to nan.\n",
      "If these failures are not expected, you can try to debug them by setting error_score='raise'.\n",
      "\n",
      "Below are more details about the failures:\n",
      "--------------------------------------------------------------------------------\n",
      "1 fits failed with the following error:\n",
      "Traceback (most recent call last):\n",
      "  File \"/Users/mimmo/Desktop/neuefische/ML_project/.venv/lib/python3.11/site-packages/sklearn/model_selection/_validation.py\", line 686, in _fit_and_score\n",
      "    estimator.fit(X_train, y_train, **fit_params)\n",
      "  File \"/Users/mimmo/Desktop/neuefische/ML_project/.venv/lib/python3.11/site-packages/xgboost/core.py\", line 620, in inner_f\n",
      "    return func(**kwargs)\n",
      "           ^^^^^^^^^^^^^^\n",
      "  File \"/Users/mimmo/Desktop/neuefische/ML_project/.venv/lib/python3.11/site-packages/xgboost/sklearn.py\", line 1490, in fit\n",
      "    self._Booster = train(\n",
      "                    ^^^^^^\n",
      "  File \"/Users/mimmo/Desktop/neuefische/ML_project/.venv/lib/python3.11/site-packages/xgboost/core.py\", line 620, in inner_f\n",
      "    return func(**kwargs)\n",
      "           ^^^^^^^^^^^^^^\n",
      "  File \"/Users/mimmo/Desktop/neuefische/ML_project/.venv/lib/python3.11/site-packages/xgboost/training.py\", line 185, in train\n",
      "    bst.update(dtrain, i, obj)\n",
      "  File \"/Users/mimmo/Desktop/neuefische/ML_project/.venv/lib/python3.11/site-packages/xgboost/core.py\", line 1918, in update\n",
      "    _check_call(_LIB.XGBoosterUpdateOneIter(self.handle,\n",
      "  File \"/Users/mimmo/Desktop/neuefische/ML_project/.venv/lib/python3.11/site-packages/xgboost/core.py\", line 279, in _check_call\n",
      "    raise XGBoostError(py_str(_LIB.XGBGetLastError()))\n",
      "xgboost.core.XGBoostError: [23:18:54] /Users/runner/work/xgboost/xgboost/python-package/build/temp.macosx-11.0-arm64-cpython-38/xgboost/src/data/iterative_dmatrix.h:90: Not implemented.\n",
      "Stack trace:\n",
      "  [bt] (0) 1   libxgboost.dylib                    0x0000000120b21bc8 dmlc::LogMessageFatal::~LogMessageFatal() + 124\n",
      "  [bt] (1) 2   libxgboost.dylib                    0x0000000120bcb524 xgboost::data::IterativeDMatrix::GetRowBatches() + 76\n",
      "  [bt] (2) 3   libxgboost.dylib                    0x0000000120bfc284 xgboost::gbm::GBLinear::PredictBatchInternal(xgboost::DMatrix*, std::__1::vector<float, std::__1::allocator<float>>*) + 424\n",
      "  [bt] (3) 4   libxgboost.dylib                    0x0000000120bf9fc8 xgboost::gbm::GBLinear::PredictBatch(xgboost::DMatrix*, xgboost::PredictionCacheEntry*, bool, unsigned int, unsigned int) + 144\n",
      "  [bt] (4) 5   libxgboost.dylib                    0x0000000120c32a9c xgboost::LearnerImpl::PredictRaw(xgboost::DMatrix*, xgboost::PredictionCacheEntry*, bool, unsigned int, unsigned int) const + 116\n",
      "  [bt] (5) 6   libxgboost.dylib                    0x0000000120c225fc xgboost::LearnerImpl::UpdateOneIter(int, std::__1::shared_ptr<xgboost::DMatrix>) + 432\n",
      "  [bt] (6) 7   libxgboost.dylib                    0x0000000120b3b418 XGBoosterUpdateOneIter + 144\n",
      "  [bt] (7) 8   libffi.dylib                        0x0000000193d1b050 ffi_call_SYSV + 80\n",
      "  [bt] (8) 9   libffi.dylib                        0x0000000193d23adc ffi_call_int + 1208\n",
      "\n",
      "\n",
      "\n",
      "--------------------------------------------------------------------------------\n",
      "1 fits failed with the following error:\n",
      "Traceback (most recent call last):\n",
      "  File \"/Users/mimmo/Desktop/neuefische/ML_project/.venv/lib/python3.11/site-packages/sklearn/model_selection/_validation.py\", line 686, in _fit_and_score\n",
      "    estimator.fit(X_train, y_train, **fit_params)\n",
      "  File \"/Users/mimmo/Desktop/neuefische/ML_project/.venv/lib/python3.11/site-packages/xgboost/core.py\", line 620, in inner_f\n",
      "    return func(**kwargs)\n",
      "           ^^^^^^^^^^^^^^\n",
      "  File \"/Users/mimmo/Desktop/neuefische/ML_project/.venv/lib/python3.11/site-packages/xgboost/sklearn.py\", line 1490, in fit\n",
      "    self._Booster = train(\n",
      "                    ^^^^^^\n",
      "  File \"/Users/mimmo/Desktop/neuefische/ML_project/.venv/lib/python3.11/site-packages/xgboost/core.py\", line 620, in inner_f\n",
      "    return func(**kwargs)\n",
      "           ^^^^^^^^^^^^^^\n",
      "  File \"/Users/mimmo/Desktop/neuefische/ML_project/.venv/lib/python3.11/site-packages/xgboost/training.py\", line 185, in train\n",
      "    bst.update(dtrain, i, obj)\n",
      "  File \"/Users/mimmo/Desktop/neuefische/ML_project/.venv/lib/python3.11/site-packages/xgboost/core.py\", line 1918, in update\n",
      "    _check_call(_LIB.XGBoosterUpdateOneIter(self.handle,\n",
      "  File \"/Users/mimmo/Desktop/neuefische/ML_project/.venv/lib/python3.11/site-packages/xgboost/core.py\", line 279, in _check_call\n",
      "    raise XGBoostError(py_str(_LIB.XGBGetLastError()))\n",
      "xgboost.core.XGBoostError: [23:18:54] /Users/runner/work/xgboost/xgboost/python-package/build/temp.macosx-11.0-arm64-cpython-38/xgboost/src/data/iterative_dmatrix.h:90: Not implemented.\n",
      "Stack trace:\n",
      "  [bt] (0) 1   libxgboost.dylib                    0x000000011fbe5bc8 dmlc::LogMessageFatal::~LogMessageFatal() + 124\n",
      "  [bt] (1) 2   libxgboost.dylib                    0x000000011fc8f524 xgboost::data::IterativeDMatrix::GetRowBatches() + 76\n",
      "  [bt] (2) 3   libxgboost.dylib                    0x000000011fcc0284 xgboost::gbm::GBLinear::PredictBatchInternal(xgboost::DMatrix*, std::__1::vector<float, std::__1::allocator<float>>*) + 424\n",
      "  [bt] (3) 4   libxgboost.dylib                    0x000000011fcbdfc8 xgboost::gbm::GBLinear::PredictBatch(xgboost::DMatrix*, xgboost::PredictionCacheEntry*, bool, unsigned int, unsigned int) + 144\n",
      "  [bt] (4) 5   libxgboost.dylib                    0x000000011fcf6a9c xgboost::LearnerImpl::PredictRaw(xgboost::DMatrix*, xgboost::PredictionCacheEntry*, bool, unsigned int, unsigned int) const + 116\n",
      "  [bt] (5) 6   libxgboost.dylib                    0x000000011fce65fc xgboost::LearnerImpl::UpdateOneIter(int, std::__1::shared_ptr<xgboost::DMatrix>) + 432\n",
      "  [bt] (6) 7   libxgboost.dylib                    0x000000011fbff418 XGBoosterUpdateOneIter + 144\n",
      "  [bt] (7) 8   libffi.dylib                        0x0000000193d1b050 ffi_call_SYSV + 80\n",
      "  [bt] (8) 9   libffi.dylib                        0x0000000193d23adc ffi_call_int + 1208\n",
      "\n",
      "\n",
      "\n",
      "--------------------------------------------------------------------------------\n",
      "1 fits failed with the following error:\n",
      "Traceback (most recent call last):\n",
      "  File \"/Users/mimmo/Desktop/neuefische/ML_project/.venv/lib/python3.11/site-packages/sklearn/model_selection/_validation.py\", line 686, in _fit_and_score\n",
      "    estimator.fit(X_train, y_train, **fit_params)\n",
      "  File \"/Users/mimmo/Desktop/neuefische/ML_project/.venv/lib/python3.11/site-packages/xgboost/core.py\", line 620, in inner_f\n",
      "    return func(**kwargs)\n",
      "           ^^^^^^^^^^^^^^\n",
      "  File \"/Users/mimmo/Desktop/neuefische/ML_project/.venv/lib/python3.11/site-packages/xgboost/sklearn.py\", line 1490, in fit\n",
      "    self._Booster = train(\n",
      "                    ^^^^^^\n",
      "  File \"/Users/mimmo/Desktop/neuefische/ML_project/.venv/lib/python3.11/site-packages/xgboost/core.py\", line 620, in inner_f\n",
      "    return func(**kwargs)\n",
      "           ^^^^^^^^^^^^^^\n",
      "  File \"/Users/mimmo/Desktop/neuefische/ML_project/.venv/lib/python3.11/site-packages/xgboost/training.py\", line 185, in train\n",
      "    bst.update(dtrain, i, obj)\n",
      "  File \"/Users/mimmo/Desktop/neuefische/ML_project/.venv/lib/python3.11/site-packages/xgboost/core.py\", line 1918, in update\n",
      "    _check_call(_LIB.XGBoosterUpdateOneIter(self.handle,\n",
      "  File \"/Users/mimmo/Desktop/neuefische/ML_project/.venv/lib/python3.11/site-packages/xgboost/core.py\", line 279, in _check_call\n",
      "    raise XGBoostError(py_str(_LIB.XGBGetLastError()))\n",
      "xgboost.core.XGBoostError: [23:18:54] /Users/runner/work/xgboost/xgboost/python-package/build/temp.macosx-11.0-arm64-cpython-38/xgboost/src/data/iterative_dmatrix.h:90: Not implemented.\n",
      "Stack trace:\n",
      "  [bt] (0) 1   libxgboost.dylib                    0x00000001211e5bc8 dmlc::LogMessageFatal::~LogMessageFatal() + 124\n",
      "  [bt] (1) 2   libxgboost.dylib                    0x000000012128f524 xgboost::data::IterativeDMatrix::GetRowBatches() + 76\n",
      "  [bt] (2) 3   libxgboost.dylib                    0x00000001212c0284 xgboost::gbm::GBLinear::PredictBatchInternal(xgboost::DMatrix*, std::__1::vector<float, std::__1::allocator<float>>*) + 424\n",
      "  [bt] (3) 4   libxgboost.dylib                    0x00000001212bdfc8 xgboost::gbm::GBLinear::PredictBatch(xgboost::DMatrix*, xgboost::PredictionCacheEntry*, bool, unsigned int, unsigned int) + 144\n",
      "  [bt] (4) 5   libxgboost.dylib                    0x00000001212f6a9c xgboost::LearnerImpl::PredictRaw(xgboost::DMatrix*, xgboost::PredictionCacheEntry*, bool, unsigned int, unsigned int) const + 116\n",
      "  [bt] (5) 6   libxgboost.dylib                    0x00000001212e65fc xgboost::LearnerImpl::UpdateOneIter(int, std::__1::shared_ptr<xgboost::DMatrix>) + 432\n",
      "  [bt] (6) 7   libxgboost.dylib                    0x00000001211ff418 XGBoosterUpdateOneIter + 144\n",
      "  [bt] (7) 8   libffi.dylib                        0x0000000193d1b050 ffi_call_SYSV + 80\n",
      "  [bt] (8) 9   libffi.dylib                        0x0000000193d23adc ffi_call_int + 1208\n",
      "\n",
      "\n",
      "\n",
      "--------------------------------------------------------------------------------\n",
      "1 fits failed with the following error:\n",
      "Traceback (most recent call last):\n",
      "  File \"/Users/mimmo/Desktop/neuefische/ML_project/.venv/lib/python3.11/site-packages/sklearn/model_selection/_validation.py\", line 686, in _fit_and_score\n",
      "    estimator.fit(X_train, y_train, **fit_params)\n",
      "  File \"/Users/mimmo/Desktop/neuefische/ML_project/.venv/lib/python3.11/site-packages/xgboost/core.py\", line 620, in inner_f\n",
      "    return func(**kwargs)\n",
      "           ^^^^^^^^^^^^^^\n",
      "  File \"/Users/mimmo/Desktop/neuefische/ML_project/.venv/lib/python3.11/site-packages/xgboost/sklearn.py\", line 1490, in fit\n",
      "    self._Booster = train(\n",
      "                    ^^^^^^\n",
      "  File \"/Users/mimmo/Desktop/neuefische/ML_project/.venv/lib/python3.11/site-packages/xgboost/core.py\", line 620, in inner_f\n",
      "    return func(**kwargs)\n",
      "           ^^^^^^^^^^^^^^\n",
      "  File \"/Users/mimmo/Desktop/neuefische/ML_project/.venv/lib/python3.11/site-packages/xgboost/training.py\", line 185, in train\n",
      "    bst.update(dtrain, i, obj)\n",
      "  File \"/Users/mimmo/Desktop/neuefische/ML_project/.venv/lib/python3.11/site-packages/xgboost/core.py\", line 1918, in update\n",
      "    _check_call(_LIB.XGBoosterUpdateOneIter(self.handle,\n",
      "  File \"/Users/mimmo/Desktop/neuefische/ML_project/.venv/lib/python3.11/site-packages/xgboost/core.py\", line 279, in _check_call\n",
      "    raise XGBoostError(py_str(_LIB.XGBGetLastError()))\n",
      "xgboost.core.XGBoostError: [23:18:54] /Users/runner/work/xgboost/xgboost/python-package/build/temp.macosx-11.0-arm64-cpython-38/xgboost/src/data/iterative_dmatrix.h:90: Not implemented.\n",
      "Stack trace:\n",
      "  [bt] (0) 1   libxgboost.dylib                    0x0000000127895bc8 dmlc::LogMessageFatal::~LogMessageFatal() + 124\n",
      "  [bt] (1) 2   libxgboost.dylib                    0x000000012793f524 xgboost::data::IterativeDMatrix::GetRowBatches() + 76\n",
      "  [bt] (2) 3   libxgboost.dylib                    0x0000000127970284 xgboost::gbm::GBLinear::PredictBatchInternal(xgboost::DMatrix*, std::__1::vector<float, std::__1::allocator<float>>*) + 424\n",
      "  [bt] (3) 4   libxgboost.dylib                    0x000000012796dfc8 xgboost::gbm::GBLinear::PredictBatch(xgboost::DMatrix*, xgboost::PredictionCacheEntry*, bool, unsigned int, unsigned int) + 144\n",
      "  [bt] (4) 5   libxgboost.dylib                    0x00000001279a6a9c xgboost::LearnerImpl::PredictRaw(xgboost::DMatrix*, xgboost::PredictionCacheEntry*, bool, unsigned int, unsigned int) const + 116\n",
      "  [bt] (5) 6   libxgboost.dylib                    0x00000001279965fc xgboost::LearnerImpl::UpdateOneIter(int, std::__1::shared_ptr<xgboost::DMatrix>) + 432\n",
      "  [bt] (6) 7   libxgboost.dylib                    0x00000001278af418 XGBoosterUpdateOneIter + 144\n",
      "  [bt] (7) 8   libffi.dylib                        0x0000000193d1b050 ffi_call_SYSV + 80\n",
      "  [bt] (8) 9   libffi.dylib                        0x0000000193d23adc ffi_call_int + 1208\n",
      "\n",
      "\n",
      "\n",
      "--------------------------------------------------------------------------------\n",
      "1 fits failed with the following error:\n",
      "Traceback (most recent call last):\n",
      "  File \"/Users/mimmo/Desktop/neuefische/ML_project/.venv/lib/python3.11/site-packages/sklearn/model_selection/_validation.py\", line 686, in _fit_and_score\n",
      "    estimator.fit(X_train, y_train, **fit_params)\n",
      "  File \"/Users/mimmo/Desktop/neuefische/ML_project/.venv/lib/python3.11/site-packages/xgboost/core.py\", line 620, in inner_f\n",
      "    return func(**kwargs)\n",
      "           ^^^^^^^^^^^^^^\n",
      "  File \"/Users/mimmo/Desktop/neuefische/ML_project/.venv/lib/python3.11/site-packages/xgboost/sklearn.py\", line 1490, in fit\n",
      "    self._Booster = train(\n",
      "                    ^^^^^^\n",
      "  File \"/Users/mimmo/Desktop/neuefische/ML_project/.venv/lib/python3.11/site-packages/xgboost/core.py\", line 620, in inner_f\n",
      "    return func(**kwargs)\n",
      "           ^^^^^^^^^^^^^^\n",
      "  File \"/Users/mimmo/Desktop/neuefische/ML_project/.venv/lib/python3.11/site-packages/xgboost/training.py\", line 185, in train\n",
      "    bst.update(dtrain, i, obj)\n",
      "  File \"/Users/mimmo/Desktop/neuefische/ML_project/.venv/lib/python3.11/site-packages/xgboost/core.py\", line 1918, in update\n",
      "    _check_call(_LIB.XGBoosterUpdateOneIter(self.handle,\n",
      "  File \"/Users/mimmo/Desktop/neuefische/ML_project/.venv/lib/python3.11/site-packages/xgboost/core.py\", line 279, in _check_call\n",
      "    raise XGBoostError(py_str(_LIB.XGBGetLastError()))\n",
      "xgboost.core.XGBoostError: [23:18:54] /Users/runner/work/xgboost/xgboost/python-package/build/temp.macosx-11.0-arm64-cpython-38/xgboost/src/data/iterative_dmatrix.h:90: Not implemented.\n",
      "Stack trace:\n",
      "  [bt] (0) 1   libxgboost.dylib                    0x000000011c0e5bc8 dmlc::LogMessageFatal::~LogMessageFatal() + 124\n",
      "  [bt] (1) 2   libxgboost.dylib                    0x000000011c18f524 xgboost::data::IterativeDMatrix::GetRowBatches() + 76\n",
      "  [bt] (2) 3   libxgboost.dylib                    0x000000011c1c0284 xgboost::gbm::GBLinear::PredictBatchInternal(xgboost::DMatrix*, std::__1::vector<float, std::__1::allocator<float>>*) + 424\n",
      "  [bt] (3) 4   libxgboost.dylib                    0x000000011c1bdfc8 xgboost::gbm::GBLinear::PredictBatch(xgboost::DMatrix*, xgboost::PredictionCacheEntry*, bool, unsigned int, unsigned int) + 144\n",
      "  [bt] (4) 5   libxgboost.dylib                    0x000000011c1f6a9c xgboost::LearnerImpl::PredictRaw(xgboost::DMatrix*, xgboost::PredictionCacheEntry*, bool, unsigned int, unsigned int) const + 116\n",
      "  [bt] (5) 6   libxgboost.dylib                    0x000000011c1e65fc xgboost::LearnerImpl::UpdateOneIter(int, std::__1::shared_ptr<xgboost::DMatrix>) + 432\n",
      "  [bt] (6) 7   libxgboost.dylib                    0x000000011c0ff418 XGBoosterUpdateOneIter + 144\n",
      "  [bt] (7) 8   libffi.dylib                        0x0000000193d1b050 ffi_call_SYSV + 80\n",
      "  [bt] (8) 9   libffi.dylib                        0x0000000193d23adc ffi_call_int + 1208\n",
      "\n",
      "\n",
      "\n",
      "  warnings.warn(some_fits_failed_message, FitFailedWarning)\n",
      "/Users/mimmo/Desktop/neuefische/ML_project/.venv/lib/python3.11/site-packages/sklearn/model_selection/_search.py:952: UserWarning: One or more of the test scores are non-finite: [       nan 0.5196352  0.53075304 0.4729397  0.43245244 0.52575165\n",
      " 0.46494249 0.57501934 0.4347401  0.52296339]\n",
      "  warnings.warn(\n"
     ]
    },
    {
     "data": {
      "text/html": [
       "<style>#sk-container-id-5 {color: black;background-color: white;}#sk-container-id-5 pre{padding: 0;}#sk-container-id-5 div.sk-toggleable {background-color: white;}#sk-container-id-5 label.sk-toggleable__label {cursor: pointer;display: block;width: 100%;margin-bottom: 0;padding: 0.3em;box-sizing: border-box;text-align: center;}#sk-container-id-5 label.sk-toggleable__label-arrow:before {content: \"▸\";float: left;margin-right: 0.25em;color: #696969;}#sk-container-id-5 label.sk-toggleable__label-arrow:hover:before {color: black;}#sk-container-id-5 div.sk-estimator:hover label.sk-toggleable__label-arrow:before {color: black;}#sk-container-id-5 div.sk-toggleable__content {max-height: 0;max-width: 0;overflow: hidden;text-align: left;background-color: #f0f8ff;}#sk-container-id-5 div.sk-toggleable__content pre {margin: 0.2em;color: black;border-radius: 0.25em;background-color: #f0f8ff;}#sk-container-id-5 input.sk-toggleable__control:checked~div.sk-toggleable__content {max-height: 200px;max-width: 100%;overflow: auto;}#sk-container-id-5 input.sk-toggleable__control:checked~label.sk-toggleable__label-arrow:before {content: \"▾\";}#sk-container-id-5 div.sk-estimator input.sk-toggleable__control:checked~label.sk-toggleable__label {background-color: #d4ebff;}#sk-container-id-5 div.sk-label input.sk-toggleable__control:checked~label.sk-toggleable__label {background-color: #d4ebff;}#sk-container-id-5 input.sk-hidden--visually {border: 0;clip: rect(1px 1px 1px 1px);clip: rect(1px, 1px, 1px, 1px);height: 1px;margin: -1px;overflow: hidden;padding: 0;position: absolute;width: 1px;}#sk-container-id-5 div.sk-estimator {font-family: monospace;background-color: #f0f8ff;border: 1px dotted black;border-radius: 0.25em;box-sizing: border-box;margin-bottom: 0.5em;}#sk-container-id-5 div.sk-estimator:hover {background-color: #d4ebff;}#sk-container-id-5 div.sk-parallel-item::after {content: \"\";width: 100%;border-bottom: 1px solid gray;flex-grow: 1;}#sk-container-id-5 div.sk-label:hover label.sk-toggleable__label {background-color: #d4ebff;}#sk-container-id-5 div.sk-serial::before {content: \"\";position: absolute;border-left: 1px solid gray;box-sizing: border-box;top: 0;bottom: 0;left: 50%;z-index: 0;}#sk-container-id-5 div.sk-serial {display: flex;flex-direction: column;align-items: center;background-color: white;padding-right: 0.2em;padding-left: 0.2em;position: relative;}#sk-container-id-5 div.sk-item {position: relative;z-index: 1;}#sk-container-id-5 div.sk-parallel {display: flex;align-items: stretch;justify-content: center;background-color: white;position: relative;}#sk-container-id-5 div.sk-item::before, #sk-container-id-5 div.sk-parallel-item::before {content: \"\";position: absolute;border-left: 1px solid gray;box-sizing: border-box;top: 0;bottom: 0;left: 50%;z-index: -1;}#sk-container-id-5 div.sk-parallel-item {display: flex;flex-direction: column;z-index: 1;position: relative;background-color: white;}#sk-container-id-5 div.sk-parallel-item:first-child::after {align-self: flex-end;width: 50%;}#sk-container-id-5 div.sk-parallel-item:last-child::after {align-self: flex-start;width: 50%;}#sk-container-id-5 div.sk-parallel-item:only-child::after {width: 0;}#sk-container-id-5 div.sk-dashed-wrapped {border: 1px dashed gray;margin: 0 0.4em 0.5em 0.4em;box-sizing: border-box;padding-bottom: 0.4em;background-color: white;}#sk-container-id-5 div.sk-label label {font-family: monospace;font-weight: bold;display: inline-block;line-height: 1.2em;}#sk-container-id-5 div.sk-label-container {text-align: center;}#sk-container-id-5 div.sk-container {/* jupyter's `normalize.less` sets `[hidden] { display: none; }` but bootstrap.min.css set `[hidden] { display: none !important; }` so we also need the `!important` here to be able to override the default hidden behavior on the sphinx rendered scikit-learn.org. See: https://github.com/scikit-learn/scikit-learn/issues/21755 */display: inline-block !important;position: relative;}#sk-container-id-5 div.sk-text-repr-fallback {display: none;}</style><div id=\"sk-container-id-5\" class=\"sk-top-container\"><div class=\"sk-text-repr-fallback\"><pre>RandomizedSearchCV(cv=5,\n",
       "                   estimator=XGBClassifier(base_score=None, booster=None,\n",
       "                                           callbacks=None,\n",
       "                                           colsample_bylevel=None,\n",
       "                                           colsample_bynode=None,\n",
       "                                           colsample_bytree=None,\n",
       "                                           early_stopping_rounds=None,\n",
       "                                           enable_categorical=False,\n",
       "                                           eval_metric=None, feature_types=None,\n",
       "                                           gamma=None, gpu_id=None,\n",
       "                                           grow_policy=None,\n",
       "                                           importance_type=None,\n",
       "                                           interaction_constraints=None,\n",
       "                                           learning_rate...\n",
       "                                           monotone_constraints=None,\n",
       "                                           n_estimators=100, n_jobs=None,\n",
       "                                           num_parallel_tree=None,\n",
       "                                           predictor=None, random_state=None, ...),\n",
       "                   n_jobs=-1,\n",
       "                   param_distributions={&#x27;booster&#x27;: [&#x27;gbtree&#x27;, &#x27;gblinear&#x27;,\n",
       "                                                    &#x27;dart&#x27;],\n",
       "                                        &#x27;max_depth&#x27;: [1, 2, 3, 4, 6, 10],\n",
       "                                        &#x27;n_estimators&#x27;: [10, 20, 30],\n",
       "                                        &#x27;subsample&#x27;: [0.3, 0.5, 0.7, 1],\n",
       "                                        &#x27;tree_method&#x27;: [&#x27;auto&#x27;, &#x27;exact&#x27;,\n",
       "                                                        &#x27;approx&#x27;, &#x27;hist&#x27;]},\n",
       "                   random_state=45, scoring=&#x27;f1&#x27;, verbose=5)</pre><b>In a Jupyter environment, please rerun this cell to show the HTML representation or trust the notebook. <br />On GitHub, the HTML representation is unable to render, please try loading this page with nbviewer.org.</b></div><div class=\"sk-container\" hidden><div class=\"sk-item sk-dashed-wrapped\"><div class=\"sk-label-container\"><div class=\"sk-label sk-toggleable\"><input class=\"sk-toggleable__control sk-hidden--visually\" id=\"sk-estimator-id-9\" type=\"checkbox\" ><label for=\"sk-estimator-id-9\" class=\"sk-toggleable__label sk-toggleable__label-arrow\">RandomizedSearchCV</label><div class=\"sk-toggleable__content\"><pre>RandomizedSearchCV(cv=5,\n",
       "                   estimator=XGBClassifier(base_score=None, booster=None,\n",
       "                                           callbacks=None,\n",
       "                                           colsample_bylevel=None,\n",
       "                                           colsample_bynode=None,\n",
       "                                           colsample_bytree=None,\n",
       "                                           early_stopping_rounds=None,\n",
       "                                           enable_categorical=False,\n",
       "                                           eval_metric=None, feature_types=None,\n",
       "                                           gamma=None, gpu_id=None,\n",
       "                                           grow_policy=None,\n",
       "                                           importance_type=None,\n",
       "                                           interaction_constraints=None,\n",
       "                                           learning_rate...\n",
       "                                           monotone_constraints=None,\n",
       "                                           n_estimators=100, n_jobs=None,\n",
       "                                           num_parallel_tree=None,\n",
       "                                           predictor=None, random_state=None, ...),\n",
       "                   n_jobs=-1,\n",
       "                   param_distributions={&#x27;booster&#x27;: [&#x27;gbtree&#x27;, &#x27;gblinear&#x27;,\n",
       "                                                    &#x27;dart&#x27;],\n",
       "                                        &#x27;max_depth&#x27;: [1, 2, 3, 4, 6, 10],\n",
       "                                        &#x27;n_estimators&#x27;: [10, 20, 30],\n",
       "                                        &#x27;subsample&#x27;: [0.3, 0.5, 0.7, 1],\n",
       "                                        &#x27;tree_method&#x27;: [&#x27;auto&#x27;, &#x27;exact&#x27;,\n",
       "                                                        &#x27;approx&#x27;, &#x27;hist&#x27;]},\n",
       "                   random_state=45, scoring=&#x27;f1&#x27;, verbose=5)</pre></div></div></div><div class=\"sk-parallel\"><div class=\"sk-parallel-item\"><div class=\"sk-item\"><div class=\"sk-label-container\"><div class=\"sk-label sk-toggleable\"><input class=\"sk-toggleable__control sk-hidden--visually\" id=\"sk-estimator-id-10\" type=\"checkbox\" ><label for=\"sk-estimator-id-10\" class=\"sk-toggleable__label sk-toggleable__label-arrow\">estimator: XGBClassifier</label><div class=\"sk-toggleable__content\"><pre>XGBClassifier(base_score=None, booster=None, callbacks=None,\n",
       "              colsample_bylevel=None, colsample_bynode=None,\n",
       "              colsample_bytree=None, early_stopping_rounds=None,\n",
       "              enable_categorical=False, eval_metric=None, feature_types=None,\n",
       "              gamma=None, gpu_id=None, grow_policy=None, importance_type=None,\n",
       "              interaction_constraints=None, learning_rate=None, max_bin=None,\n",
       "              max_cat_threshold=None, max_cat_to_onehot=None,\n",
       "              max_delta_step=None, max_depth=None, max_leaves=None,\n",
       "              min_child_weight=None, missing=nan, monotone_constraints=None,\n",
       "              n_estimators=100, n_jobs=None, num_parallel_tree=None,\n",
       "              predictor=None, random_state=None, ...)</pre></div></div></div><div class=\"sk-serial\"><div class=\"sk-item\"><div class=\"sk-estimator sk-toggleable\"><input class=\"sk-toggleable__control sk-hidden--visually\" id=\"sk-estimator-id-11\" type=\"checkbox\" ><label for=\"sk-estimator-id-11\" class=\"sk-toggleable__label sk-toggleable__label-arrow\">XGBClassifier</label><div class=\"sk-toggleable__content\"><pre>XGBClassifier(base_score=None, booster=None, callbacks=None,\n",
       "              colsample_bylevel=None, colsample_bynode=None,\n",
       "              colsample_bytree=None, early_stopping_rounds=None,\n",
       "              enable_categorical=False, eval_metric=None, feature_types=None,\n",
       "              gamma=None, gpu_id=None, grow_policy=None, importance_type=None,\n",
       "              interaction_constraints=None, learning_rate=None, max_bin=None,\n",
       "              max_cat_threshold=None, max_cat_to_onehot=None,\n",
       "              max_delta_step=None, max_depth=None, max_leaves=None,\n",
       "              min_child_weight=None, missing=nan, monotone_constraints=None,\n",
       "              n_estimators=100, n_jobs=None, num_parallel_tree=None,\n",
       "              predictor=None, random_state=None, ...)</pre></div></div></div></div></div></div></div></div></div></div>"
      ],
      "text/plain": [
       "RandomizedSearchCV(cv=5,\n",
       "                   estimator=XGBClassifier(base_score=None, booster=None,\n",
       "                                           callbacks=None,\n",
       "                                           colsample_bylevel=None,\n",
       "                                           colsample_bynode=None,\n",
       "                                           colsample_bytree=None,\n",
       "                                           early_stopping_rounds=None,\n",
       "                                           enable_categorical=False,\n",
       "                                           eval_metric=None, feature_types=None,\n",
       "                                           gamma=None, gpu_id=None,\n",
       "                                           grow_policy=None,\n",
       "                                           importance_type=None,\n",
       "                                           interaction_constraints=None,\n",
       "                                           learning_rate...\n",
       "                                           monotone_constraints=None,\n",
       "                                           n_estimators=100, n_jobs=None,\n",
       "                                           num_parallel_tree=None,\n",
       "                                           predictor=None, random_state=None, ...),\n",
       "                   n_jobs=-1,\n",
       "                   param_distributions={'booster': ['gbtree', 'gblinear',\n",
       "                                                    'dart'],\n",
       "                                        'max_depth': [1, 2, 3, 4, 6, 10],\n",
       "                                        'n_estimators': [10, 20, 30],\n",
       "                                        'subsample': [0.3, 0.5, 0.7, 1],\n",
       "                                        'tree_method': ['auto', 'exact',\n",
       "                                                        'approx', 'hist']},\n",
       "                   random_state=45, scoring='f1', verbose=5)"
      ]
     },
     "execution_count": 26,
     "metadata": {},
     "output_type": "execute_result"
    }
   ],
   "source": [
    "# Third round of randomized search to get better parameters, since I have a looot of false negatives, I will try to see what a random search on f1 score will do\n",
    "\n",
    "param_grid = {'max_depth': [1,2,3,4,6,10],\n",
    "              'n_estimators': [10,20,30],\n",
    "              'tree_method': ['auto', 'exact', 'approx', 'hist'],\n",
    "              'subsample': [0.3,0.5,0.7,1],\n",
    "              'booster': ['gbtree', 'gblinear', 'dart']\n",
    "            }\n",
    "\n",
    "# instantiate the search\n",
    "rs3 = RandomizedSearchCV(XGBClassifier(), param_grid, scoring='f1',\n",
    "                        cv = 5, verbose=5, n_jobs=-1, n_iter=10, random_state=RSEED)\n",
    "\n",
    "rs3.fit(X_train_preprocessed, y_train)"
   ]
  },
  {
   "cell_type": "code",
   "execution_count": 27,
   "metadata": {},
   "outputs": [
    {
     "name": "stdout",
     "output_type": "stream",
     "text": [
      "Best score: 0.575\n",
      "Best parameters:  {'tree_method': 'auto', 'subsample': 0.3, 'n_estimators': 30, 'max_depth': 10, 'booster': 'gbtree'}\n"
     ]
    }
   ],
   "source": [
    "# getting the best score\n",
    "print('Best score:', round(rs3.best_score_, 3))\n",
    "\n",
    "# getting the best parameters\n",
    "print('Best parameters: ', rs3.best_params_)"
   ]
  },
  {
   "cell_type": "code",
   "execution_count": 28,
   "metadata": {},
   "outputs": [
    {
     "name": "stdout",
     "output_type": "stream",
     "text": [
      "Extreme Gradient Boosting (XGBClassifier)\n",
      "=======================\n",
      "max_depth: 10\n",
      "n_estimators: 30\n",
      "tree_method: auto\n",
      "subsample: 0.3\n",
      "booster: gbtree\n",
      "Train precision: 0.658584\n",
      "Test precision: 0.657538\n",
      "Test f1 score: 0.537443\n"
     ]
    }
   ],
   "source": [
    "# assingning the best fitted parameters\n",
    "xgb_best3 = rs3.best_estimator_\n",
    "\n",
    "y_pred_rs3 = xgb_best3.predict(X_train_preprocessed)\n",
    "y_pred_test_rs3 = xgb_best3.predict(X_test_preprocessed)\n",
    "\n",
    "print('Extreme Gradient Boosting (XGBClassifier)')\n",
    "print('=======================')\n",
    "print('max_depth: {}'.format(xgb_best3.max_depth))\n",
    "print('n_estimators: {}'.format(xgb_best3.n_estimators))\n",
    "print('tree_method: {}'.format(xgb_best3.tree_method))\n",
    "print('subsample: {}'.format(xgb_best3.subsample))\n",
    "print('booster: {}'.format(xgb_best3.booster))\n",
    "\n",
    "rxgb_precision3_train = precision_score(y_train, y_pred_rs3)\n",
    "print('Train precision: {:2f}'.format(rxgb_precision3_train))\n",
    "rxgb_precision3 = precision_score(y_test, y_pred_test_rs3)\n",
    "print('Test precision: {:2f}'.format(rxgb_precision3))\n",
    "rxgb_f1score3 = f1_score(y_test, y_pred_test_rs3)\n",
    "print('Test f1 score: {:2f}'.format(rxgb_f1score3))"
   ]
  },
  {
   "cell_type": "code",
   "execution_count": 29,
   "metadata": {},
   "outputs": [
    {
     "data": {
      "text/plain": [
       "<Axes: xlabel='Predicted Labels', ylabel='True Labels'>"
      ]
     },
     "execution_count": 29,
     "metadata": {},
     "output_type": "execute_result"
    },
    {
     "data": {
      "image/png": "[encoded data removed]",
      "text/plain": [
       "<Figure size 640x480 with 2 Axes>"
      ]
     },
     "metadata": {},
     "output_type": "display_data"
    }
   ],
   "source": [
    "# Confusion matrix using pandas crosstab\n",
    "conf_matrix= pd.crosstab(y_test, y_pred_test_rs3, rownames=['True Labels'], colnames=['Predicted Labels'])\n",
    "sns.heatmap(conf_matrix, annot=True)"
   ]
  },
  {
   "cell_type": "markdown",
   "metadata": {},
   "source": [
    "## Interpretation\n",
    "This is actually the best model we had so far."
   ]
  },
  {
   "cell_type": "markdown",
   "metadata": {},
   "source": [
    "## Export the best model"
   ]
  },
  {
   "cell_type": "code",
   "execution_count": 30,
   "metadata": {},
   "outputs": [
    {
     "data": {
      "text/plain": [
       "['kickstarter_model.pkl']"
      ]
     },
     "execution_count": 30,
     "metadata": {},
     "output_type": "execute_result"
    }
   ],
   "source": [
    "import pickle\n",
    "import joblib\n",
    "filename = 'kickstarter_model.pkl'\n",
    "joblib.dump(xgb_best3, filename)"
   ]
  },
  {
   "cell_type": "markdown",
   "metadata": {},
   "source": [
    "## Export the preprocessing steps"
   ]
  },
  {
   "cell_type": "code",
   "execution_count": 40,
   "metadata": {},
   "outputs": [],
   "source": [
    "from sklearn.pipeline import Pipeline\n",
    "from sklearn.preprocessing import OneHotEncoder, MinMaxScaler\n",
    "from sklearn.compose import ColumnTransformer\n",
    "\n",
    "categorical_features = ['category', 'subcategory', 'country']\n",
    "scaled_features = ['funding_goal', 'funding_period', 'launch_year']"
   ]
  },
  {
   "cell_type": "code",
   "execution_count": 41,
   "metadata": {},
   "outputs": [],
   "source": [
    "categorical_transformer = Pipeline(steps=[\n",
    "    'onehot', OneHotEncoder(handle_unknown='ignore')\n",
    "])\n",
    "\n",
    "numerical_transformer = Pipeline(steps=[\n",
    "    'scaler', MinMaxScaler()\n",
    "])"
   ]
  },
  {
   "cell_type": "code",
   "execution_count": 42,
   "metadata": {},
   "outputs": [],
   "source": [
    "preprocessor = ColumnTransformer(\n",
    "    transformers=[\n",
    "        ('num', numerical_transformer, scaled_features),\n",
    "        ('cat', categorical_transformer, categorical_features)\n",
    "    ]\n",
    ")"
   ]
  },
  {
   "cell_type": "code",
   "execution_count": 43,
   "metadata": {},
   "outputs": [
    {
     "data": {
      "text/plain": [
       "['kickstarter_preprocessing.pkl']"
      ]
     },
     "execution_count": 43,
     "metadata": {},
     "output_type": "execute_result"
    }
   ],
   "source": [
    "filename = 'kickstarter_preprocessing.pkl'\n",
    "joblib.dump(preprocessor, filename)"
   ]
  },
  {
   "cell_type": "markdown",
   "metadata": {},
   "source": [
    "## Error analysis\n",
    "This is our best model so far, so we will now do an error analysis for it.\n",
    "\n",
    "I am starting with the feature importance and then residual analysis"
   ]
  },
  {
   "cell_type": "code",
   "execution_count": 31,
   "metadata": {},
   "outputs": [
    {
     "data": {
      "text/plain": [
       "<Axes: title={'center': 'Most important features'}, xlabel='feature importance'>"
      ]
     },
     "execution_count": 31,
     "metadata": {},
     "output_type": "execute_result"
    },
    {
     "data": {
      "image/png": "[encoded data removed]",
      "text/plain": [
       "<Figure size 640x480 with 1 Axes>"
      ]
     },
     "metadata": {},
     "output_type": "display_data"
    }
   ],
   "source": [
    "# getting the top twenty feature importance\n",
    "feat_importances = pd.Series(xgb_best3.feature_importances_, index=X.columns)\n",
    "feat_importances.nlargest(20)[::-1].plot(kind='barh', xlabel='feature importance', title='Most important features')"
   ]
  },
  {
   "cell_type": "markdown",
   "metadata": {},
   "source": [
    "## Interpretation\n",
    "\n",
    "This important feature analysis fits to what we found out earlier in the EDA. (Sub)categories like Tabletop games, Dance or Theater had very high success rates, while Apps or Web were especially unsuccessful. Both of which should make them very important for the modelling.\n",
    "\n",
    "Since all of the most important features are one-hot-encoded features, we wanted to see how the importance would look for all the original features. Thus, I will now add up all the importance values of the different one-hot-encoded features that belonged to one original feature."
   ]
  },
  {
   "cell_type": "code",
   "execution_count": 32,
   "metadata": {},
   "outputs": [
    {
     "data": {
      "text/plain": [
       "funding_goal              0.004159\n",
       "funding_period            0.003641\n",
       "launch_year               0.002825\n",
       "category_Comics           0.019244\n",
       "category_Crafts           0.012264\n",
       "                            ...   \n",
       "country_Spain             0.003480\n",
       "country_Sweden            0.001598\n",
       "country_Switzerland       0.002011\n",
       "country_United Kingdom    0.002099\n",
       "country_United States     0.002563\n",
       "Length: 196, dtype: float32"
      ]
     },
     "execution_count": 32,
     "metadata": {},
     "output_type": "execute_result"
    }
   ],
   "source": [
    "feat_importances"
   ]
  },
  {
   "cell_type": "code",
   "execution_count": 33,
   "metadata": {},
   "outputs": [
    {
     "data": {
      "text/plain": [
       "Index(['funding_goal', 'outcome', 'funding_period', 'launch_year',\n",
       "       'category_Comics', 'category_Crafts', 'category_Dance',\n",
       "       'category_Design', 'category_Fashion', 'category_Film & Video',\n",
       "       ...\n",
       "       'country_Mexico', 'country_Netherlands ', 'country_New Zealand',\n",
       "       'country_Norway', 'country_Singapore', 'country_Spain',\n",
       "       'country_Sweden', 'country_Switzerland', 'country_United Kingdom',\n",
       "       'country_United States'],\n",
       "      dtype='object', length=197)"
      ]
     },
     "execution_count": 33,
     "metadata": {},
     "output_type": "execute_result"
    }
   ],
   "source": [
    "df_kickstarter.columns"
   ]
  },
  {
   "cell_type": "code",
   "execution_count": 34,
   "metadata": {},
   "outputs": [
    {
     "data": {
      "text/html": [
       "<div>\n",
       "<style scoped>\n",
       "    .dataframe tbody tr th:only-of-type {\n",
       "        vertical-align: middle;\n",
       "    }\n",
       "\n",
       "    .dataframe tbody tr th {\n",
       "        vertical-align: top;\n",
       "    }\n",
       "\n",
       "    .dataframe thead th {\n",
       "        text-align: right;\n",
       "    }\n",
       "</style>\n",
       "<table border=\"1\" class=\"dataframe\">\n",
       "  <thead>\n",
       "    <tr style=\"text-align: right;\">\n",
       "      <th></th>\n",
       "      <th>Feature</th>\n",
       "      <th>Importance</th>\n",
       "    </tr>\n",
       "  </thead>\n",
       "  <tbody>\n",
       "    <tr>\n",
       "      <th>0</th>\n",
       "      <td>Category</td>\n",
       "      <td>0.149335</td>\n",
       "    </tr>\n",
       "    <tr>\n",
       "      <th>1</th>\n",
       "      <td>Subcategory</td>\n",
       "      <td>0.775360</td>\n",
       "    </tr>\n",
       "    <tr>\n",
       "      <th>2</th>\n",
       "      <td>Country</td>\n",
       "      <td>0.064679</td>\n",
       "    </tr>\n",
       "    <tr>\n",
       "      <th>3</th>\n",
       "      <td>funding_goal</td>\n",
       "      <td>0.004159</td>\n",
       "    </tr>\n",
       "    <tr>\n",
       "      <th>4</th>\n",
       "      <td>funding_period</td>\n",
       "      <td>0.003641</td>\n",
       "    </tr>\n",
       "    <tr>\n",
       "      <th>5</th>\n",
       "      <td>launch_year</td>\n",
       "      <td>0.002825</td>\n",
       "    </tr>\n",
       "  </tbody>\n",
       "</table>\n",
       "</div>"
      ],
      "text/plain": [
       "          Feature  Importance\n",
       "0        Category    0.149335\n",
       "1     Subcategory    0.775360\n",
       "2         Country    0.064679\n",
       "3    funding_goal    0.004159\n",
       "4  funding_period    0.003641\n",
       "5     launch_year    0.002825"
      ]
     },
     "execution_count": 34,
     "metadata": {},
     "output_type": "execute_result"
    }
   ],
   "source": [
    "# sum up the feature importances\n",
    "category_importances = feat_importances[feat_importances.index.str.startswith('category_')]\n",
    "subcategory_importances = feat_importances[feat_importances.index.str.startswith('subcategory_')]\n",
    "country_importances = feat_importances[feat_importances.index.str.startswith('country_')]\n",
    "goal_importance = feat_importances[feat_importances.index.str.startswith('funding_goal')]\n",
    "period_importance = feat_importances[feat_importances.index.str.startswith('funding_period')]\n",
    "year_importance = feat_importances[feat_importances.index.str.startswith('launch_year')]\n",
    "\n",
    "category_importance_sum = category_importances.sum()\n",
    "subcategory_importance_sum = subcategory_importances.sum()\n",
    "country_importance_sum = country_importances.sum()\n",
    "goal_importance_sum = goal_importance.sum()\n",
    "period_importance_sum = period_importance.sum()\n",
    "year_importance_sum = year_importance.sum()\n",
    "\n",
    "# Create a new DataFrame with the summed feature importance values\n",
    "sum_importance_df = pd.DataFrame({\n",
    "    'Feature': ['Category', 'Subcategory', 'Country', 'funding_goal', 'funding_period', 'launch_year'],\n",
    "    'Importance': [category_importance_sum, subcategory_importance_sum, country_importance_sum,\n",
    "                    goal_importance_sum, period_importance_sum, year_importance_sum]\n",
    "})\n",
    "\n",
    "sum_importance_df"
   ]
  },
  {
   "cell_type": "code",
   "execution_count": 35,
   "metadata": {},
   "outputs": [],
   "source": [
    "sum_importance_df = sum_importance_df.sort_values('Importance').reset_index()"
   ]
  },
  {
   "cell_type": "code",
   "execution_count": 36,
   "metadata": {},
   "outputs": [
    {
     "data": {
      "application/vnd.plotly.v1+json": {
       "config": {
        "plotlyServerURL": "https://plot.ly"
       },
       "data": [
        {
         "alignmentgroup": "True",
         "hovertemplate": "Importance=%{x}<br>Feature=%{y}<extra></extra>",
         "legendgroup": "",
         "marker": {
          "color": "#636efa",
          "pattern": {
           "shape": ""
          }
         },
         "name": "",
         "offsetgroup": "",
         "orientation": "h",
         "showlegend": false,
         "textposition": "auto",
         "type": "bar",
         "x": [
          0.002825399860739708,
          0.003641274757683277,
          0.004159340634942055,
          0.06467892229557037,
          0.14933501183986664,
          0.775360107421875
         ],
         "xaxis": "x",
         "y": [
          "launch_year",
          "funding_period",
          "funding_goal",
          "Country",
          "Category",
          "Subcategory"
         ],
         "yaxis": "y"
        }
       ],
       "layout": {
        "barmode": "relative",
        "legend": {
         "tracegroupgap": 0
        },
        "template": {
         "data": {
          "bar": [
           {
            "error_x": {
             "color": "#2a3f5f"
            },
            "error_y": {
             "color": "#2a3f5f"
            },
            "marker": {
             "line": {
              "color": "#E5ECF6",
              "width": 0.5
             },
             "pattern": {
              "fillmode": "overlay",
              "size": 10,
              "solidity": 0.2
             }
            },
            "type": "bar"
           }
          ],
          "barpolar": [
           {
            "marker": {
             "line": {
              "color": "#E5ECF6",
              "width": 0.5
             },
             "pattern": {
              "fillmode": "overlay",
              "size": 10,
              "solidity": 0.2
             }
            },
            "type": "barpolar"
           }
          ],
          "carpet": [
           {
            "aaxis": {
             "endlinecolor": "#2a3f5f",
             "gridcolor": "white",
             "linecolor": "white",
             "minorgridcolor": "white",
             "startlinecolor": "#2a3f5f"
            },
            "baxis": {
             "endlinecolor": "#2a3f5f",
             "gridcolor": "white",
             "linecolor": "white",
             "minorgridcolor": "white",
             "startlinecolor": "#2a3f5f"
            },
            "type": "carpet"
           }
          ],
          "choropleth": [
           {
            "colorbar": {
             "outlinewidth": 0,
             "ticks": ""
            },
            "type": "choropleth"
           }
          ],
          "contour": [
           {
            "colorbar": {
             "outlinewidth": 0,
             "ticks": ""
            },
            "colorscale": [
             [
              0,
              "#0d0887"
             ],
             [
              0.1111111111111111,
              "#46039f"
             ],
             [
              0.2222222222222222,
              "#7201a8"
             ],
             [
              0.3333333333333333,
              "#9c179e"
             ],
             [
              0.4444444444444444,
              "#bd3786"
             ],
             [
              0.5555555555555556,
              "#d8576b"
             ],
             [
              0.6666666666666666,
              "#ed7953"
             ],
             [
              0.7777777777777778,
              "#fb9f3a"
             ],
             [
              0.8888888888888888,
              "#fdca26"
             ],
             [
              1,
              "#f0f921"
             ]
            ],
            "type": "contour"
           }
          ],
          "contourcarpet": [
           {
            "colorbar": {
             "outlinewidth": 0,
             "ticks": ""
            },
            "type": "contourcarpet"
           }
          ],
          "heatmap": [
           {
            "colorbar": {
             "outlinewidth": 0,
             "ticks": ""
            },
            "colorscale": [
             [
              0,
              "#0d0887"
             ],
             [
              0.1111111111111111,
              "#46039f"
             ],
             [
              0.2222222222222222,
              "#7201a8"
             ],
             [
              0.3333333333333333,
              "#9c179e"
             ],
             [
              0.4444444444444444,
              "#bd3786"
             ],
             [
              0.5555555555555556,
              "#d8576b"
             ],
             [
              0.6666666666666666,
              "#ed7953"
             ],
             [
              0.7777777777777778,
              "#fb9f3a"
             ],
             [
              0.8888888888888888,
              "#fdca26"
             ],
             [
              1,
              "#f0f921"
             ]
            ],
            "type": "heatmap"
           }
          ],
          "heatmapgl": [
           {
            "colorbar": {
             "outlinewidth": 0,
             "ticks": ""
            },
            "colorscale": [
             [
              0,
              "#0d0887"
             ],
             [
              0.1111111111111111,
              "#46039f"
             ],
             [
              0.2222222222222222,
              "#7201a8"
             ],
             [
              0.3333333333333333,
              "#9c179e"
             ],
             [
              0.4444444444444444,
              "#bd3786"
             ],
             [
              0.5555555555555556,
              "#d8576b"
             ],
             [
              0.6666666666666666,
              "#ed7953"
             ],
             [
              0.7777777777777778,
              "#fb9f3a"
             ],
             [
              0.8888888888888888,
              "#fdca26"
             ],
             [
              1,
              "#f0f921"
             ]
            ],
            "type": "heatmapgl"
           }
          ],
          "histogram": [
           {
            "marker": {
             "pattern": {
              "fillmode": "overlay",
              "size": 10,
              "solidity": 0.2
             }
            },
            "type": "histogram"
           }
          ],
          "histogram2d": [
           {
            "colorbar": {
             "outlinewidth": 0,
             "ticks": ""
            },
            "colorscale": [
             [
              0,
              "#0d0887"
             ],
             [
              0.1111111111111111,
              "#46039f"
             ],
             [
              0.2222222222222222,
              "#7201a8"
             ],
             [
              0.3333333333333333,
              "#9c179e"
             ],
             [
              0.4444444444444444,
              "#bd3786"
             ],
             [
              0.5555555555555556,
              "#d8576b"
             ],
             [
              0.6666666666666666,
              "#ed7953"
             ],
             [
              0.7777777777777778,
              "#fb9f3a"
             ],
             [
              0.8888888888888888,
              "#fdca26"
             ],
             [
              1,
              "#f0f921"
             ]
            ],
            "type": "histogram2d"
           }
          ],
          "histogram2dcontour": [
           {
            "colorbar": {
             "outlinewidth": 0,
             "ticks": ""
            },
            "colorscale": [
             [
              0,
              "#0d0887"
             ],
             [
              0.1111111111111111,
              "#46039f"
             ],
             [
              0.2222222222222222,
              "#7201a8"
             ],
             [
              0.3333333333333333,
              "#9c179e"
             ],
             [
              0.4444444444444444,
              "#bd3786"
             ],
             [
              0.5555555555555556,
              "#d8576b"
             ],
             [
              0.6666666666666666,
              "#ed7953"
             ],
             [
              0.7777777777777778,
              "#fb9f3a"
             ],
             [
              0.8888888888888888,
              "#fdca26"
             ],
             [
              1,
              "#f0f921"
             ]
            ],
            "type": "histogram2dcontour"
           }
          ],
          "mesh3d": [
           {
            "colorbar": {
             "outlinewidth": 0,
             "ticks": ""
            },
            "type": "mesh3d"
           }
          ],
          "parcoords": [
           {
            "line": {
             "colorbar": {
              "outlinewidth": 0,
              "ticks": ""
             }
            },
            "type": "parcoords"
           }
          ],
          "pie": [
           {
            "automargin": true,
            "type": "pie"
           }
          ],
          "scatter": [
           {
            "fillpattern": {
             "fillmode": "overlay",
             "size": 10,
             "solidity": 0.2
            },
            "type": "scatter"
           }
          ],
          "scatter3d": [
           {
            "line": {
             "colorbar": {
              "outlinewidth": 0,
              "ticks": ""
             }
            },
            "marker": {
             "colorbar": {
              "outlinewidth": 0,
              "ticks": ""
             }
            },
            "type": "scatter3d"
           }
          ],
          "scattercarpet": [
           {
            "marker": {
             "colorbar": {
              "outlinewidth": 0,
              "ticks": ""
             }
            },
            "type": "scattercarpet"
           }
          ],
          "scattergeo": [
           {
            "marker": {
             "colorbar": {
              "outlinewidth": 0,
              "ticks": ""
             }
            },
            "type": "scattergeo"
           }
          ],
          "scattergl": [
           {
            "marker": {
             "colorbar": {
              "outlinewidth": 0,
              "ticks": ""
             }
            },
            "type": "scattergl"
           }
          ],
          "scattermapbox": [
           {
            "marker": {
             "colorbar": {
              "outlinewidth": 0,
              "ticks": ""
             }
            },
            "type": "scattermapbox"
           }
          ],
          "scatterpolar": [
           {
            "marker": {
             "colorbar": {
              "outlinewidth": 0,
              "ticks": ""
             }
            },
            "type": "scatterpolar"
           }
          ],
          "scatterpolargl": [
           {
            "marker": {
             "colorbar": {
              "outlinewidth": 0,
              "ticks": ""
             }
            },
            "type": "scatterpolargl"
           }
          ],
          "scatterternary": [
           {
            "marker": {
             "colorbar": {
              "outlinewidth": 0,
              "ticks": ""
             }
            },
            "type": "scatterternary"
           }
          ],
          "surface": [
           {
            "colorbar": {
             "outlinewidth": 0,
             "ticks": ""
            },
            "colorscale": [
             [
              0,
              "#0d0887"
             ],
             [
              0.1111111111111111,
              "#46039f"
             ],
             [
              0.2222222222222222,
              "#7201a8"
             ],
             [
              0.3333333333333333,
              "#9c179e"
             ],
             [
              0.4444444444444444,
              "#bd3786"
             ],
             [
              0.5555555555555556,
              "#d8576b"
             ],
             [
              0.6666666666666666,
              "#ed7953"
             ],
             [
              0.7777777777777778,
              "#fb9f3a"
             ],
             [
              0.8888888888888888,
              "#fdca26"
             ],
             [
              1,
              "#f0f921"
             ]
            ],
            "type": "surface"
           }
          ],
          "table": [
           {
            "cells": {
             "fill": {
              "color": "#EBF0F8"
             },
             "line": {
              "color": "white"
             }
            },
            "header": {
             "fill": {
              "color": "#C8D4E3"
             },
             "line": {
              "color": "white"
             }
            },
            "type": "table"
           }
          ]
         },
         "layout": {
          "annotationdefaults": {
           "arrowcolor": "#2a3f5f",
           "arrowhead": 0,
           "arrowwidth": 1
          },
          "autotypenumbers": "strict",
          "coloraxis": {
           "colorbar": {
            "outlinewidth": 0,
            "ticks": ""
           }
          },
          "colorscale": {
           "diverging": [
            [
             0,
             "#8e0152"
            ],
            [
             0.1,
             "#c51b7d"
            ],
            [
             0.2,
             "#de77ae"
            ],
            [
             0.3,
             "#f1b6da"
            ],
            [
             0.4,
             "#fde0ef"
            ],
            [
             0.5,
             "#f7f7f7"
            ],
            [
             0.6,
             "#e6f5d0"
            ],
            [
             0.7,
             "#b8e186"
            ],
            [
             0.8,
             "#7fbc41"
            ],
            [
             0.9,
             "#4d9221"
            ],
            [
             1,
             "#276419"
            ]
           ],
           "sequential": [
            [
             0,
             "#0d0887"
            ],
            [
             0.1111111111111111,
             "#46039f"
            ],
            [
             0.2222222222222222,
             "#7201a8"
            ],
            [
             0.3333333333333333,
             "#9c179e"
            ],
            [
             0.4444444444444444,
             "#bd3786"
            ],
            [
             0.5555555555555556,
             "#d8576b"
            ],
            [
             0.6666666666666666,
             "#ed7953"
            ],
            [
             0.7777777777777778,
             "#fb9f3a"
            ],
            [
             0.8888888888888888,
             "#fdca26"
            ],
            [
             1,
             "#f0f921"
            ]
           ],
           "sequentialminus": [
            [
             0,
             "#0d0887"
            ],
            [
             0.1111111111111111,
             "#46039f"
            ],
            [
             0.2222222222222222,
             "#7201a8"
            ],
            [
             0.3333333333333333,
             "#9c179e"
            ],
            [
             0.4444444444444444,
             "#bd3786"
            ],
            [
             0.5555555555555556,
             "#d8576b"
            ],
            [
             0.6666666666666666,
             "#ed7953"
            ],
            [
             0.7777777777777778,
             "#fb9f3a"
            ],
            [
             0.8888888888888888,
             "#fdca26"
            ],
            [
             1,
             "#f0f921"
            ]
           ]
          },
          "colorway": [
           "#636efa",
           "#EF553B",
           "#00cc96",
           "#ab63fa",
           "#FFA15A",
           "#19d3f3",
           "#FF6692",
           "#B6E880",
           "#FF97FF",
           "#FECB52"
          ],
          "font": {
           "color": "#2a3f5f"
          },
          "geo": {
           "bgcolor": "white",
           "lakecolor": "white",
           "landcolor": "#E5ECF6",
           "showlakes": true,
           "showland": true,
           "subunitcolor": "white"
          },
          "hoverlabel": {
           "align": "left"
          },
          "hovermode": "closest",
          "mapbox": {
           "style": "light"
          },
          "paper_bgcolor": "white",
          "plot_bgcolor": "#E5ECF6",
          "polar": {
           "angularaxis": {
            "gridcolor": "white",
            "linecolor": "white",
            "ticks": ""
           },
           "bgcolor": "#E5ECF6",
           "radialaxis": {
            "gridcolor": "white",
            "linecolor": "white",
            "ticks": ""
           }
          },
          "scene": {
           "xaxis": {
            "backgroundcolor": "#E5ECF6",
            "gridcolor": "white",
            "gridwidth": 2,
            "linecolor": "white",
            "showbackground": true,
            "ticks": "",
            "zerolinecolor": "white"
           },
           "yaxis": {
            "backgroundcolor": "#E5ECF6",
            "gridcolor": "white",
            "gridwidth": 2,
            "linecolor": "white",
            "showbackground": true,
            "ticks": "",
            "zerolinecolor": "white"
           },
           "zaxis": {
            "backgroundcolor": "#E5ECF6",
            "gridcolor": "white",
            "gridwidth": 2,
            "linecolor": "white",
            "showbackground": true,
            "ticks": "",
            "zerolinecolor": "white"
           }
          },
          "shapedefaults": {
           "line": {
            "color": "#2a3f5f"
           }
          },
          "ternary": {
           "aaxis": {
            "gridcolor": "white",
            "linecolor": "white",
            "ticks": ""
           },
           "baxis": {
            "gridcolor": "white",
            "linecolor": "white",
            "ticks": ""
           },
           "bgcolor": "#E5ECF6",
           "caxis": {
            "gridcolor": "white",
            "linecolor": "white",
            "ticks": ""
           }
          },
          "title": {
           "x": 0.05
          },
          "xaxis": {
           "automargin": true,
           "gridcolor": "white",
           "linecolor": "white",
           "ticks": "",
           "title": {
            "standoff": 15
           },
           "zerolinecolor": "white",
           "zerolinewidth": 2
          },
          "yaxis": {
           "automargin": true,
           "gridcolor": "white",
           "linecolor": "white",
           "ticks": "",
           "title": {
            "standoff": 15
           },
           "zerolinecolor": "white",
           "zerolinewidth": 2
          }
         }
        },
        "title": {
         "text": "Importance of the original features",
         "x": 0.5
        },
        "width": 800,
        "xaxis": {
         "anchor": "y",
         "domain": [
          0,
          1
         ],
         "title": {
          "text": "Accumulated feature importance"
         }
        },
        "yaxis": {
         "anchor": "x",
         "domain": [
          0,
          1
         ],
         "tickangle": 0,
         "tickmode": "linear",
         "title": {
          "text": ""
         }
        }
       }
      }
     },
     "metadata": {},
     "output_type": "display_data"
    }
   ],
   "source": [
    "fig = px.bar(sum_importance_df, x='Importance', y='Feature', title= 'Importance of the original features')\n",
    "fig.update_yaxes(title_text = '', tickangle = 0, tickmode='linear')\n",
    "fig.update_xaxes(title_text = 'Accumulated feature importance')\n",
    "fig.update_layout(title_x = 0.5, width = 800)\n",
    "fig.show()"
   ]
  },
  {
   "cell_type": "markdown",
   "metadata": {},
   "source": [
    "## Interpretation\n",
    "\n",
    "The most important original feature is by far the subcategory. Other relevant featues are the category as well as the country of origin. The funding goal, period or year were rather unimportant, which logically also makes sense."
   ]
  },
  {
   "cell_type": "markdown",
   "metadata": {},
   "source": [
    "## Final Interpretation\n",
    "\n",
    "The results of the feature importance analysis of the best model are in line with our findings during the EDA.\n",
    "\n",
    "Yet, even the best model does not perform very well. With the domain knowledge that I have about Kickstarter projects, I can explain this as following: We were not given the features that really decide on the success of a Kickstarter campain. Surely, the (sub)category and the country of origin will contribute, but some of the most important feature would be:\n",
    "\n",
    "- How and were is the project advertised? (For example advertisement budget, advertisement strategies, advertisement platforms)\n",
    "- How well is the project outline designed and described? (A nice campaign design looks much more professional and will attract more backers)\n",
    "\n",
    "So, with the data that we were given, I think we achieved the best that we could."
   ]
  }
 ],
 "metadata": {
  "kernelspec": {
   "display_name": ".venv",
   "language": "python",
   "name": "python3"
  },
  "language_info": {
   "codemirror_mode": {
    "name": "ipython",
    "version": 3
   },
   "file_extension": ".py",
   "mimetype": "text/x-python",
   "name": "python",
   "nbconvert_exporter": "python",
   "pygments_lexer": "ipython3",
   "version": "3.11.3"
  }
 },
 "nbformat": 4,
 "nbformat_minor": 2
}
