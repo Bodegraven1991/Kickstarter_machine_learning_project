{
 "cells": [
  {
   "cell_type": "markdown",
   "metadata": {},
   "source": [
    "# Ideas what to try to optimize the models\n",
    "\n",
    "- feature engineer (standardisation, normalisation, not on one-hot-encoded columns)\n",
    "- cross validation\n",
    "- gridsearch or randomsearch\n",
    "- if overfitting: regularisation (Ridge Regression or Lasso Regression)"
   ]
  },
  {
   "cell_type": "markdown",
   "metadata": {},
   "source": [
    "- Try to optimize the precision with highest priority"
   ]
  },
  {
   "cell_type": "markdown",
   "metadata": {},
   "source": [
    "## Readout\n",
    "\n",
    "- all the scores\n",
    "- confusion matrix"
   ]
  },
  {
   "cell_type": "markdown",
   "metadata": {},
   "source": []
  }
 ],
 "metadata": {
  "language_info": {
   "name": "python"
  }
 },
 "nbformat": 4,
 "nbformat_minor": 2
}
